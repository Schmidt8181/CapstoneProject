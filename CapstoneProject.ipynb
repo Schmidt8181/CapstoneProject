{
 "cells": [
  {
   "cell_type": "markdown",
   "metadata": {
    "nbpresent": {
     "id": "1427cbfb-9c65-4c06-bd10-7fdb0a6558f2"
    },
    "slideshow": {
     "slide_type": "slide"
    }
   },
   "source": [
    "# Supervised Learning Capstone Presentation\n",
    "\n",
    "## Exploring Wage Disparities Across Occupations\n",
    "\n",
    "In this notebook I will be exploring the Kaggle dataset of the US Bureau of Labor Statistics January 2015 report on income by gender and occupation. The dataset states that it shows 535 different occupations, and their corresponding weekly median incomes, broken down into men, women, and all, columns. Also included are reported numbers of emplyees for each occupation.\n",
    "\n",
    "With this data, I would like to see if I can predict the occupational category of a job given input on wage, gender, share of females, gender ratio, wage gap, and if the field is male dominated or has a significant wage gap. \n",
    "\n"
   ]
  },
  {
   "cell_type": "markdown",
   "metadata": {
    "collapsed": true,
    "nbpresent": {
     "id": "81403525-f339-48ff-a83e-c146022c534f"
    },
    "slideshow": {
     "slide_type": "slide"
    }
   },
   "source": [
    "### A few things to acknowledge before we get started. \n",
    "\n",
    "We are going to be using a few different modules for this experiment, including SKLearn heavily. Pandas, Numpy, and Seaborn are here as well. We will be measuring how well we are doing using the different models built in scoring mechanism and also sklearn.metrics accuracy_score, which measures your predicted labels compared to your correct labels. "
   ]
  },
  {
   "cell_type": "code",
   "execution_count": 3,
   "metadata": {
    "collapsed": true,
    "nbpresent": {
     "id": "7acec783-e5bf-4167-9775-b3d0b6b93898"
    },
    "slideshow": {
     "slide_type": "skip"
    }
   },
   "outputs": [],
   "source": [
    "import pandas as pd\n",
    "import numpy as np\n",
    "import seaborn as sns\n",
    "import scipy\n",
    "import matplotlib.pyplot as plt\n",
    "from sklearn import linear_model\n",
    "from sklearn import preprocessing\n",
    "from sklearn.metrics import accuracy_score\n",
    "from sklearn.preprocessing import StandardScaler\n",
    "from sklearn import tree\n",
    "from sklearn import ensemble\n",
    "from sklearn.model_selection import cross_val_score, train_test_split\n",
    "%matplotlib inline"
   ]
  },
  {
   "cell_type": "code",
   "execution_count": 4,
   "metadata": {
    "collapsed": true,
    "nbpresent": {
     "id": "38d82001-2cb5-480e-8463-525dff903ca6"
    },
    "slideshow": {
     "slide_type": "skip"
    }
   },
   "outputs": [],
   "source": [
    "import os\n",
    "curr_directory = os.getcwd()\n",
    "datafile = curr_directory + \"/inc_occ_gender.csv\"\n"
   ]
  },
  {
   "cell_type": "markdown",
   "metadata": {
    "nbpresent": {
     "id": "d3b0666d-4757-4c99-a970-16c871943af9"
    },
    "slideshow": {
     "slide_type": "slide"
    }
   },
   "source": [
    "Taking our first look at our data, it looks like the occupation categories are all upper case. That's going to make it easy for us to pull them out later. Those Nan values will dropped, and we'll change the dtypes to make sure everything that's a number isn't a string. "
   ]
  },
  {
   "cell_type": "code",
   "execution_count": 5,
   "metadata": {
    "nbpresent": {
     "id": "ebbadf1e-46fa-4cd3-a796-22f5711c8aec"
    },
    "scrolled": false,
    "slideshow": {
     "slide_type": "subslide"
    }
   },
   "outputs": [
    {
     "data": {
      "text/html": [
       "<div>\n",
       "<style>\n",
       "    .dataframe thead tr:only-child th {\n",
       "        text-align: right;\n",
       "    }\n",
       "\n",
       "    .dataframe thead th {\n",
       "        text-align: left;\n",
       "    }\n",
       "\n",
       "    .dataframe tbody tr th {\n",
       "        vertical-align: top;\n",
       "    }\n",
       "</style>\n",
       "<table border=\"1\" class=\"dataframe\">\n",
       "  <thead>\n",
       "    <tr style=\"text-align: right;\">\n",
       "      <th></th>\n",
       "      <th>Occupation</th>\n",
       "      <th>All_workers</th>\n",
       "      <th>All_weekly</th>\n",
       "      <th>M_workers</th>\n",
       "      <th>M_weekly</th>\n",
       "      <th>F_workers</th>\n",
       "      <th>F_weekly</th>\n",
       "    </tr>\n",
       "  </thead>\n",
       "  <tbody>\n",
       "    <tr>\n",
       "      <th>0</th>\n",
       "      <td>ALL OCCUPATIONS</td>\n",
       "      <td>109080</td>\n",
       "      <td>809</td>\n",
       "      <td>60746</td>\n",
       "      <td>895</td>\n",
       "      <td>48334</td>\n",
       "      <td>726</td>\n",
       "    </tr>\n",
       "    <tr>\n",
       "      <th>1</th>\n",
       "      <td>MANAGEMENT</td>\n",
       "      <td>12480</td>\n",
       "      <td>1351</td>\n",
       "      <td>7332</td>\n",
       "      <td>1486</td>\n",
       "      <td>5147</td>\n",
       "      <td>1139</td>\n",
       "    </tr>\n",
       "    <tr>\n",
       "      <th>2</th>\n",
       "      <td>Chief executives</td>\n",
       "      <td>1046</td>\n",
       "      <td>2041</td>\n",
       "      <td>763</td>\n",
       "      <td>2251</td>\n",
       "      <td>283</td>\n",
       "      <td>1836</td>\n",
       "    </tr>\n",
       "    <tr>\n",
       "      <th>3</th>\n",
       "      <td>General and operations managers</td>\n",
       "      <td>823</td>\n",
       "      <td>1260</td>\n",
       "      <td>621</td>\n",
       "      <td>1347</td>\n",
       "      <td>202</td>\n",
       "      <td>1002</td>\n",
       "    </tr>\n",
       "    <tr>\n",
       "      <th>4</th>\n",
       "      <td>Legislators</td>\n",
       "      <td>8</td>\n",
       "      <td>Na</td>\n",
       "      <td>5</td>\n",
       "      <td>Na</td>\n",
       "      <td>4</td>\n",
       "      <td>Na</td>\n",
       "    </tr>\n",
       "  </tbody>\n",
       "</table>\n",
       "</div>"
      ],
      "text/plain": [
       "                        Occupation  All_workers All_weekly  M_workers  \\\n",
       "0                  ALL OCCUPATIONS       109080        809      60746   \n",
       "1                       MANAGEMENT        12480       1351       7332   \n",
       "2                 Chief executives         1046       2041        763   \n",
       "3  General and operations managers          823       1260        621   \n",
       "4                      Legislators            8         Na          5   \n",
       "\n",
       "  M_weekly  F_workers F_weekly  \n",
       "0      895      48334      726  \n",
       "1     1486       5147     1139  \n",
       "2     2251        283     1836  \n",
       "3     1347        202     1002  \n",
       "4       Na          4       Na  "
      ]
     },
     "execution_count": 5,
     "metadata": {},
     "output_type": "execute_result"
    }
   ],
   "source": [
    "genderwage = pd.read_csv(datafile)\n",
    "genderwage.head()"
   ]
  },
  {
   "cell_type": "code",
   "execution_count": 6,
   "metadata": {
    "nbpresent": {
     "id": "e5b55d8c-9392-4e54-9952-bfc5ce84ab64"
    },
    "slideshow": {
     "slide_type": "skip"
    }
   },
   "outputs": [
    {
     "data": {
      "text/plain": [
       "Occupation     558\n",
       "All_workers    558\n",
       "All_weekly     558\n",
       "M_workers      558\n",
       "M_weekly       558\n",
       "F_workers      558\n",
       "F_weekly       558\n",
       "dtype: int64"
      ]
     },
     "execution_count": 6,
     "metadata": {},
     "output_type": "execute_result"
    }
   ],
   "source": [
    "genderwage.count()"
   ]
  },
  {
   "cell_type": "code",
   "execution_count": 7,
   "metadata": {
    "nbpresent": {
     "id": "78066e96-0637-4554-b831-3afd57739c84"
    },
    "slideshow": {
     "slide_type": "skip"
    }
   },
   "outputs": [
    {
     "data": {
      "text/plain": [
       "Occupation     object\n",
       "All_workers     int64\n",
       "All_weekly     object\n",
       "M_workers       int64\n",
       "M_weekly       object\n",
       "F_workers       int64\n",
       "F_weekly       object\n",
       "dtype: object"
      ]
     },
     "execution_count": 7,
     "metadata": {},
     "output_type": "execute_result"
    }
   ],
   "source": [
    "genderwage.dtypes"
   ]
  },
  {
   "cell_type": "code",
   "execution_count": 8,
   "metadata": {
    "collapsed": true,
    "nbpresent": {
     "id": "f98f33f7-4008-4ac5-b0d1-86982220877f"
    },
    "slideshow": {
     "slide_type": "skip"
    }
   },
   "outputs": [],
   "source": [
    "genderwage[['All_weekly',\n",
    "            'M_weekly',\n",
    "            'F_weekly']] = genderwage[['All_weekly',\n",
    "                                       'M_weekly',\n",
    "                                       'F_weekly']].apply(pd.to_numeric, errors='coerce')"
   ]
  },
  {
   "cell_type": "code",
   "execution_count": 9,
   "metadata": {
    "nbpresent": {
     "id": "3dac8c5f-9f2e-4751-94ea-6c4f3fa6cf2a"
    },
    "slideshow": {
     "slide_type": "skip"
    }
   },
   "outputs": [
    {
     "data": {
      "text/plain": [
       "Occupation      object\n",
       "All_workers      int64\n",
       "All_weekly     float64\n",
       "M_workers        int64\n",
       "M_weekly       float64\n",
       "F_workers        int64\n",
       "F_weekly       float64\n",
       "dtype: object"
      ]
     },
     "execution_count": 9,
     "metadata": {},
     "output_type": "execute_result"
    }
   ],
   "source": [
    "genderwage.dtypes"
   ]
  },
  {
   "cell_type": "code",
   "execution_count": 10,
   "metadata": {
    "nbpresent": {
     "id": "4d7d67e0-40ec-46dd-87c2-05c52060c49c"
    },
    "slideshow": {
     "slide_type": "skip"
    }
   },
   "outputs": [
    {
     "data": {
      "text/plain": [
       "Occupation       0\n",
       "All_workers      0\n",
       "All_weekly     236\n",
       "M_workers        0\n",
       "M_weekly       326\n",
       "F_workers        0\n",
       "F_weekly       366\n",
       "dtype: int64"
      ]
     },
     "execution_count": 10,
     "metadata": {},
     "output_type": "execute_result"
    }
   ],
   "source": [
    "genderwage.isnull().sum()"
   ]
  },
  {
   "cell_type": "code",
   "execution_count": 11,
   "metadata": {
    "collapsed": true,
    "nbpresent": {
     "id": "149f4e1f-da6b-450a-90df-cdb4a669fbfd"
    },
    "slideshow": {
     "slide_type": "skip"
    }
   },
   "outputs": [],
   "source": [
    "categories = [] \n",
    "for i in genderwage['Occupation']:\n",
    "    if i.isupper()==True:\n",
    "        categories.append(i)\n",
    "\n",
    "categories_df = genderwage.loc[genderwage['Occupation'].isin(categories)].reset_index(drop=True).copy()\n"
   ]
  },
  {
   "cell_type": "code",
   "execution_count": 12,
   "metadata": {
    "collapsed": true,
    "nbpresent": {
     "id": "4e1b033d-ec76-4372-85f8-341e7fdf54d3"
    },
    "slideshow": {
     "slide_type": "skip"
    }
   },
   "outputs": [],
   "source": [
    "indices =[]\n",
    "category_index = pd.Index(list(genderwage['Occupation']))\n",
    "for i in categories:\n",
    "    index = category_index.get_loc(i)\n",
    "    indices.append(index)"
   ]
  },
  {
   "cell_type": "code",
   "execution_count": 13,
   "metadata": {
    "collapsed": true,
    "nbpresent": {
     "id": "77e5d4ab-fc70-4d67-a0c9-7e3b577af121"
    },
    "slideshow": {
     "slide_type": "skip"
    }
   },
   "outputs": [],
   "source": [
    "genderwage.insert(1, 'Occupation_Category', 0)"
   ]
  },
  {
   "cell_type": "code",
   "execution_count": 14,
   "metadata": {
    "collapsed": true,
    "nbpresent": {
     "id": "1c0661ec-d363-4c0b-91ec-32078fc3cfad"
    },
    "slideshow": {
     "slide_type": "skip"
    }
   },
   "outputs": [],
   "source": [
    "cat_count = -1\n",
    "index_copy = pd.Index(list(genderwage['Occupation']))\n",
    "for x in genderwage['Occupation']:\n",
    "    current_index = index_copy.get_loc(x)\n",
    "    genderwage.iloc[current_index, genderwage.columns.get_loc('Occupation_Category')] = cat_count\n",
    "    if x.isupper():\n",
    "        cat_count = cat_count + 1\n",
    "        genderwage.iloc[current_index, genderwage.columns.get_loc('Occupation_Category')] = cat_count\n",
    "    "
   ]
  },
  {
   "cell_type": "code",
   "execution_count": 15,
   "metadata": {
    "collapsed": true,
    "nbpresent": {
     "id": "eebcfa08-0d53-4ad6-84b5-a65d3dbc40c5"
    },
    "slideshow": {
     "slide_type": "skip"
    }
   },
   "outputs": [],
   "source": [
    "genderwage.insert(1, 'Occupation_Category_label', 0)"
   ]
  },
  {
   "cell_type": "code",
   "execution_count": 16,
   "metadata": {
    "collapsed": true,
    "nbpresent": {
     "id": "c0c3a5df-afdc-45b0-bf69-da7fdf619ccc"
    },
    "slideshow": {
     "slide_type": "skip"
    }
   },
   "outputs": [],
   "source": [
    "cat_label = 'nothing'\n",
    "for x in genderwage['Occupation']:\n",
    "    current_index = index_copy.get_loc(x)\n",
    "    genderwage.iloc[current_index, genderwage.columns.get_loc('Occupation_Category_label')] = cat_label\n",
    "    if x.isupper():\n",
    "        cat_label = x\n",
    "        genderwage.iloc[current_index, genderwage.columns.get_loc('Occupation_Category_label')] = cat_label\n",
    "    "
   ]
  },
  {
   "cell_type": "markdown",
   "metadata": {
    "nbpresent": {
     "id": "2a8c12b5-bece-4457-9995-286cf1f224ad"
    },
    "slideshow": {
     "slide_type": "skip"
    }
   },
   "source": [
    "# Here i made a dataframe of the occupations that did NOT report anything for female weekly wages\n",
    "\n",
    "Not really sure what good this will do, but maybe i could compare the occupational categories that did not report wages vs those that did?"
   ]
  },
  {
   "cell_type": "code",
   "execution_count": 18,
   "metadata": {
    "collapsed": true,
    "nbpresent": {
     "id": "36e5cd67-5c69-4eed-b2dc-f2009c88ac17"
    },
    "slideshow": {
     "slide_type": "skip"
    }
   },
   "outputs": [],
   "source": [
    "no_wage_df = genderwage.where(genderwage['F_weekly'].isnull())\n"
   ]
  },
  {
   "cell_type": "code",
   "execution_count": 19,
   "metadata": {
    "nbpresent": {
     "id": "0deab08b-de3e-4343-bf5e-fd5127193b35"
    },
    "slideshow": {
     "slide_type": "skip"
    }
   },
   "outputs": [
    {
     "data": {
      "text/plain": [
       "Occupation                   192\n",
       "Occupation_Category_label    192\n",
       "Occupation_Category          192\n",
       "All_workers                  192\n",
       "All_weekly                   428\n",
       "M_workers                    192\n",
       "M_weekly                     468\n",
       "F_workers                    192\n",
       "F_weekly                     558\n",
       "dtype: int64"
      ]
     },
     "execution_count": 19,
     "metadata": {},
     "output_type": "execute_result"
    }
   ],
   "source": [
    "no_wage_df.isnull().sum()"
   ]
  },
  {
   "cell_type": "code",
   "execution_count": 20,
   "metadata": {
    "nbpresent": {
     "id": "06144005-7a6f-46de-8950-3697357b9f99"
    },
    "slideshow": {
     "slide_type": "skip"
    }
   },
   "outputs": [
    {
     "data": {
      "text/plain": [
       "Occupation                     0\n",
       "Occupation_Category_label      0\n",
       "Occupation_Category            0\n",
       "All_workers                    0\n",
       "All_weekly                   236\n",
       "M_workers                      0\n",
       "M_weekly                     276\n",
       "F_workers                      0\n",
       "F_weekly                     366\n",
       "dtype: int64"
      ]
     },
     "execution_count": 20,
     "metadata": {},
     "output_type": "execute_result"
    }
   ],
   "source": [
    "no_wage_df = no_wage_df.dropna(axis=0, how='all')\n",
    "no_wage_df.isnull().sum()"
   ]
  },
  {
   "cell_type": "code",
   "execution_count": 21,
   "metadata": {
    "collapsed": true,
    "nbpresent": {
     "id": "8d2ab5aa-3b0a-4c69-9fc4-68e700868233"
    },
    "slideshow": {
     "slide_type": "skip"
    }
   },
   "outputs": [],
   "source": [
    "no_wage_df['GenderRatio'] = no_wage_df['F_workers'] / no_wage_df['M_workers']"
   ]
  },
  {
   "cell_type": "code",
   "execution_count": 22,
   "metadata": {
    "nbpresent": {
     "id": "7e31ab56-745c-45b1-99a2-dc4ba06dda14"
    },
    "slideshow": {
     "slide_type": "skip"
    }
   },
   "outputs": [
    {
     "data": {
      "text/html": [
       "<div>\n",
       "<style>\n",
       "    .dataframe thead tr:only-child th {\n",
       "        text-align: right;\n",
       "    }\n",
       "\n",
       "    .dataframe thead th {\n",
       "        text-align: left;\n",
       "    }\n",
       "\n",
       "    .dataframe tbody tr th {\n",
       "        vertical-align: top;\n",
       "    }\n",
       "</style>\n",
       "<table border=\"1\" class=\"dataframe\">\n",
       "  <thead>\n",
       "    <tr style=\"text-align: right;\">\n",
       "      <th></th>\n",
       "      <th>Occupation_Category</th>\n",
       "      <th>All_workers</th>\n",
       "      <th>All_weekly</th>\n",
       "      <th>M_workers</th>\n",
       "      <th>M_weekly</th>\n",
       "      <th>F_workers</th>\n",
       "      <th>F_weekly</th>\n",
       "      <th>GenderRatio</th>\n",
       "    </tr>\n",
       "  </thead>\n",
       "  <tbody>\n",
       "    <tr>\n",
       "      <th>count</th>\n",
       "      <td>366.000000</td>\n",
       "      <td>366.000000</td>\n",
       "      <td>130.000000</td>\n",
       "      <td>366.000000</td>\n",
       "      <td>90.000000</td>\n",
       "      <td>366.000000</td>\n",
       "      <td>0.0</td>\n",
       "      <td>359.000000</td>\n",
       "    </tr>\n",
       "    <tr>\n",
       "      <th>mean</th>\n",
       "      <td>14.688525</td>\n",
       "      <td>69.699454</td>\n",
       "      <td>953.753846</td>\n",
       "      <td>58.896175</td>\n",
       "      <td>979.266667</td>\n",
       "      <td>10.795082</td>\n",
       "      <td>NaN</td>\n",
       "      <td>inf</td>\n",
       "    </tr>\n",
       "    <tr>\n",
       "      <th>std</th>\n",
       "      <td>6.951198</td>\n",
       "      <td>128.537814</td>\n",
       "      <td>355.417258</td>\n",
       "      <td>124.705396</td>\n",
       "      <td>376.822874</td>\n",
       "      <td>12.813908</td>\n",
       "      <td>NaN</td>\n",
       "      <td>NaN</td>\n",
       "    </tr>\n",
       "    <tr>\n",
       "      <th>min</th>\n",
       "      <td>1.000000</td>\n",
       "      <td>0.000000</td>\n",
       "      <td>354.000000</td>\n",
       "      <td>0.000000</td>\n",
       "      <td>389.000000</td>\n",
       "      <td>0.000000</td>\n",
       "      <td>NaN</td>\n",
       "      <td>0.000000</td>\n",
       "    </tr>\n",
       "    <tr>\n",
       "      <th>25%</th>\n",
       "      <td>9.000000</td>\n",
       "      <td>11.000000</td>\n",
       "      <td>685.500000</td>\n",
       "      <td>7.000000</td>\n",
       "      <td>725.250000</td>\n",
       "      <td>1.000000</td>\n",
       "      <td>NaN</td>\n",
       "      <td>0.030769</td>\n",
       "    </tr>\n",
       "    <tr>\n",
       "      <th>50%</th>\n",
       "      <td>18.000000</td>\n",
       "      <td>30.000000</td>\n",
       "      <td>874.500000</td>\n",
       "      <td>20.000000</td>\n",
       "      <td>879.500000</td>\n",
       "      <td>5.000000</td>\n",
       "      <td>NaN</td>\n",
       "      <td>0.200000</td>\n",
       "    </tr>\n",
       "    <tr>\n",
       "      <th>75%</th>\n",
       "      <td>21.000000</td>\n",
       "      <td>67.000000</td>\n",
       "      <td>1152.500000</td>\n",
       "      <td>49.000000</td>\n",
       "      <td>1103.250000</td>\n",
       "      <td>17.000000</td>\n",
       "      <td>NaN</td>\n",
       "      <td>0.825758</td>\n",
       "    </tr>\n",
       "    <tr>\n",
       "      <th>max</th>\n",
       "      <td>22.000000</td>\n",
       "      <td>1181.000000</td>\n",
       "      <td>1952.000000</td>\n",
       "      <td>1155.000000</td>\n",
       "      <td>1892.000000</td>\n",
       "      <td>49.000000</td>\n",
       "      <td>NaN</td>\n",
       "      <td>inf</td>\n",
       "    </tr>\n",
       "  </tbody>\n",
       "</table>\n",
       "</div>"
      ],
      "text/plain": [
       "       Occupation_Category  All_workers   All_weekly    M_workers  \\\n",
       "count           366.000000   366.000000   130.000000   366.000000   \n",
       "mean             14.688525    69.699454   953.753846    58.896175   \n",
       "std               6.951198   128.537814   355.417258   124.705396   \n",
       "min               1.000000     0.000000   354.000000     0.000000   \n",
       "25%               9.000000    11.000000   685.500000     7.000000   \n",
       "50%              18.000000    30.000000   874.500000    20.000000   \n",
       "75%              21.000000    67.000000  1152.500000    49.000000   \n",
       "max              22.000000  1181.000000  1952.000000  1155.000000   \n",
       "\n",
       "          M_weekly   F_workers  F_weekly  GenderRatio  \n",
       "count    90.000000  366.000000       0.0   359.000000  \n",
       "mean    979.266667   10.795082       NaN          inf  \n",
       "std     376.822874   12.813908       NaN          NaN  \n",
       "min     389.000000    0.000000       NaN     0.000000  \n",
       "25%     725.250000    1.000000       NaN     0.030769  \n",
       "50%     879.500000    5.000000       NaN     0.200000  \n",
       "75%    1103.250000   17.000000       NaN     0.825758  \n",
       "max    1892.000000   49.000000       NaN          inf  "
      ]
     },
     "execution_count": 22,
     "metadata": {},
     "output_type": "execute_result"
    }
   ],
   "source": [
    "no_wage_df.describe()"
   ]
  },
  {
   "cell_type": "markdown",
   "metadata": {
    "nbpresent": {
     "id": "632ca1b1-6c5d-476e-a5db-cd3537d5b275"
    },
    "slideshow": {
     "slide_type": "slide"
    }
   },
   "source": [
    "Setting up our cleaned dataframe, we drop all 'Nan' values, and also pluck out the occupation categories, then reset the index. \n"
   ]
  },
  {
   "cell_type": "code",
   "execution_count": 23,
   "metadata": {
    "collapsed": true,
    "nbpresent": {
     "id": "8e46436b-0559-4026-a260-32d753341b55"
    },
    "slideshow": {
     "slide_type": "subslide"
    }
   },
   "outputs": [],
   "source": [
    "cleanedgenderwage = genderwage.dropna(axis=0, how='any').copy()\n",
    "cleanedgenderwage = cleanedgenderwage.loc[~cleanedgenderwage['Occupation'].isin(categories)].reset_index(drop=True)\n"
   ]
  },
  {
   "cell_type": "code",
   "execution_count": 24,
   "metadata": {
    "nbpresent": {
     "id": "87e7f653-08e9-4993-abbc-b8a7eb930e26"
    },
    "slideshow": {
     "slide_type": "skip"
    }
   },
   "outputs": [
    {
     "data": {
      "text/plain": [
       "OFFICE                     17\n",
       "MANAGEMENT                 16\n",
       "BUSINESS                   12\n",
       "PRODUCTION                 11\n",
       "SALES                      11\n",
       "HEALTHCARE PROFESSIONAL     7\n",
       "CULINARY                    7\n",
       "COMPUTATIONAL               7\n",
       "TRANSPORTATION              4\n",
       "EDUCATION                   4\n",
       "PROTECTIVE SERVICE          3\n",
       "ARTS                        3\n",
       "SCIENCE                     3\n",
       "SOCIAL SERVICE              3\n",
       "SERVICE                     3\n",
       "GROUNDSKEEPING              3\n",
       "ENGINEERING                 2\n",
       "AGRICULTURAL                1\n",
       "HEALTHCARE SUPPORT          1\n",
       "LEGAL                       1\n",
       "Name: Occupation_Category_label, dtype: int64"
      ]
     },
     "execution_count": 24,
     "metadata": {},
     "output_type": "execute_result"
    }
   ],
   "source": [
    "cleanedgenderwage['Occupation_Category_label'].value_counts()"
   ]
  },
  {
   "cell_type": "markdown",
   "metadata": {
    "slideshow": {
     "slide_type": "slide"
    }
   },
   "source": [
    "If we want to create a model that can work well with new information, we need to have categories that are more general. To solve this problem, we're going to combine a few of them. Healthcare Support will be merged with Healthcare Professional, to become simply Healthcare. Agriculture, Construction, Maintenance and Groundskeeping are all things we as a society need to continue, so they will all be rolled in to Infrastructure Support. Engineering will be added to Science, because it's a science, and then Protective Service, Service, Arts, and Legal will all be put into Other because of their low count."
   ]
  },
  {
   "cell_type": "code",
   "execution_count": 25,
   "metadata": {
    "collapsed": true,
    "nbpresent": {
     "id": "b498a602-2175-4c7b-836b-24a23a81c1a4"
    },
    "slideshow": {
     "slide_type": "subslide"
    }
   },
   "outputs": [],
   "source": [
    "# combine categories \n",
    "cleanedgenderwage.loc[cleanedgenderwage['Occupation_Category_label'] == 'HEALTHCARE SUPPORT', 'Occupation_Category_label'] = 'HEALTHCARE'\n",
    "cleanedgenderwage.loc[cleanedgenderwage['Occupation_Category_label'] == 'HEALTHCARE PROFESSIONAL', 'Occupation_Category_label'] = 'HEALTHCARE'\n",
    "\n",
    "cleanedgenderwage.loc[cleanedgenderwage['Occupation_Category_label'] == 'AGRICULTURAL', 'Occupation_Category_label'] = 'INFRASTRUCTURE SUPPORT'\n",
    "cleanedgenderwage.loc[cleanedgenderwage['Occupation_Category_label'] == 'CONSTRUCTION', 'Occupation_Category_label'] = 'INFRASTRUCTURE SUPPORT'\n",
    "cleanedgenderwage.loc[cleanedgenderwage['Occupation_Category_label'] == 'MAINTENANCE', 'Occupation_Category_label'] = 'INFRASTRUCTURE SUPPORT'\n",
    "cleanedgenderwage.loc[cleanedgenderwage['Occupation_Category_label'] == 'GROUNDSKEEPING', 'Occupation_Category_label'] = 'INFRASTRUCTURE SUPPORT'\n",
    "\n",
    "cleanedgenderwage.loc[cleanedgenderwage['Occupation_Category_label'] == 'ENGINEERING', 'Occupation_Category_label'] = 'SCIENCE'\n",
    "\n",
    "cleanedgenderwage.loc[cleanedgenderwage['Occupation_Category_label'] == 'PROTECTIVE SERVICE', 'Occupation_Category_label'] = 'OTHER'\n",
    "cleanedgenderwage.loc[cleanedgenderwage['Occupation_Category_label'] == 'SERVICE', 'Occupation_Category_label'] = 'OTHER'\n",
    "cleanedgenderwage.loc[cleanedgenderwage['Occupation_Category_label'] == 'ARTS', 'Occupation_Category_label'] = 'OTHER'\n",
    "cleanedgenderwage.loc[cleanedgenderwage['Occupation_Category_label'] == 'LEGAL', 'Occupation_Category_label'] = 'OTHER'\n"
   ]
  },
  {
   "cell_type": "code",
   "execution_count": 26,
   "metadata": {
    "nbpresent": {
     "id": "7174bd3d-3189-41cf-9e5b-f45a053b01c5"
    },
    "slideshow": {
     "slide_type": "skip"
    }
   },
   "outputs": [
    {
     "data": {
      "text/plain": [
       "OFFICE                     17\n",
       "MANAGEMENT                 16\n",
       "BUSINESS                   12\n",
       "SALES                      11\n",
       "PRODUCTION                 11\n",
       "OTHER                       9\n",
       "HEALTHCARE PROFESSIONAL     8\n",
       "COMPUTATIONAL               7\n",
       "CULINARY                    7\n",
       "SCIENCE                     5\n",
       "TRANSPORTATION              4\n",
       "EDUCATION                   4\n",
       "INFRASTRUCTURE SUPPORT      4\n",
       "SOCIAL SERVICE              4\n",
       "Name: Occupation_Category_label, dtype: int64"
      ]
     },
     "execution_count": 26,
     "metadata": {},
     "output_type": "execute_result"
    }
   ],
   "source": [
    "cleanedgenderwage['Occupation_Category_label'].value_counts()"
   ]
  },
  {
   "cell_type": "markdown",
   "metadata": {
    "nbpresent": {
     "id": "e516c6a4-a7e8-44b1-9d26-500244db8223"
    },
    "slideshow": {
     "slide_type": "slide"
    }
   },
   "source": [
    "## Preliminary Data Exploration\n",
    "\n",
    "Here we will take a look at the distributions of male to female workers, male to female wages, and finally see a scatter plot of male to female wages."
   ]
  },
  {
   "cell_type": "code",
   "execution_count": 72,
   "metadata": {
    "nbpresent": {
     "id": "d66a7795-def9-4256-bf0b-418a68c70ae9"
    },
    "slideshow": {
     "slide_type": "slide"
    }
   },
   "outputs": [
    {
     "data": {
      "image/png": "[encoded data removed]",
      "text/plain": [
       "<matplotlib.figure.Figure at 0x1115c9748>"
      ]
     },
     "metadata": {},
     "output_type": "display_data"
    }
   ],
   "source": [
    "sns.kdeplot(data=cleanedgenderwage['F_workers'])\n",
    "sns.kdeplot(data=cleanedgenderwage['M_workers'])\n",
    "plt.xlabel('Number of employees')\n",
    "plt.title('Distribution of Workers')\n",
    "plt.show()"
   ]
  },
  {
   "cell_type": "code",
   "execution_count": 74,
   "metadata": {
    "nbpresent": {
     "id": "2e3b8d0c-4626-4bc4-af47-f809162c5099"
    },
    "slideshow": {
     "slide_type": "slide"
    }
   },
   "outputs": [
    {
     "data": {
      "image/png": "[encoded data removed]",
      "text/plain": [
       "<matplotlib.figure.Figure at 0x112a82c18>"
      ]
     },
     "metadata": {},
     "output_type": "display_data"
    }
   ],
   "source": [
    "sns.kdeplot(data=cleanedgenderwage['F_weekly'])\n",
    "sns.kdeplot(data=cleanedgenderwage['M_weekly'])\n",
    "plt.title('Distribution of Wages')\n",
    "plt.xlabel('Wages')\n",
    "plt.show()"
   ]
  },
  {
   "cell_type": "code",
   "execution_count": 75,
   "metadata": {
    "nbpresent": {
     "id": "3ed334c2-ae93-4e9c-ba1e-857de053db77"
    },
    "slideshow": {
     "slide_type": "slide"
    }
   },
   "outputs": [
    {
     "data": {
      "image/png": "[encoded data removed]",
      "text/plain": [
       "<matplotlib.figure.Figure at 0x111bd0c18>"
      ]
     },
     "metadata": {},
     "output_type": "display_data"
    }
   ],
   "source": [
    "# look at female wages vs male wages on a scatter plot\n",
    "plt.plot(cleanedgenderwage['All_weekly'], cleanedgenderwage['F_weekly'], 'o', color='m')\n",
    "plt.plot(cleanedgenderwage['All_weekly'], cleanedgenderwage['M_weekly'], 'o', color='c')\n",
    "plt.xlabel('Occupation Median Salary')\n",
    "plt.legend(['Females','Males'])\n",
    "plt.title('Male Vs Female Wages')\n",
    "plt.ylabel('Salary')\n",
    "plt.show()"
   ]
  },
  {
   "cell_type": "code",
   "execution_count": 79,
   "metadata": {
    "nbpresent": {
     "id": "00843487-8187-4dc3-936c-da860ba9e525"
    },
    "slideshow": {
     "slide_type": "slide"
    }
   },
   "outputs": [
    {
     "data": {
      "image/png": "[encoded data removed]",
      "text/plain": [
       "<matplotlib.figure.Figure at 0x1123c4898>"
      ]
     },
     "metadata": {},
     "output_type": "display_data"
    }
   ],
   "source": [
    "plt.plot(cleanedgenderwage['Occupation_Category'], cleanedgenderwage['M_weekly'], 'x')\n",
    "plt.plot(cleanedgenderwage['Occupation_Category'], cleanedgenderwage['F_weekly'], 'o')\n",
    "plt.xlabel('Occupation Category Number, not helpful i know')\n",
    "plt.title('Male and Female Wages by Occupation Category Number')\n",
    "plt.show()"
   ]
  },
  {
   "cell_type": "markdown",
   "metadata": {},
   "source": [
    "Across all categories men get paid more than women. And there seems to be a down"
   ]
  },
  {
   "cell_type": "code",
   "execution_count": 77,
   "metadata": {},
   "outputs": [
    {
     "data": {
      "text/plain": [
       "['ALL OCCUPATIONS',\n",
       " 'MANAGEMENT',\n",
       " 'BUSINESS',\n",
       " 'COMPUTATIONAL',\n",
       " 'ENGINEERING',\n",
       " 'SCIENCE',\n",
       " 'SOCIAL SERVICE',\n",
       " 'LEGAL',\n",
       " 'EDUCATION',\n",
       " 'ARTS',\n",
       " 'HEALTHCARE PROFESSIONAL',\n",
       " 'HEALTHCARE SUPPORT',\n",
       " 'PROTECTIVE SERVICE',\n",
       " 'CULINARY',\n",
       " 'GROUNDSKEEPING',\n",
       " 'SERVICE',\n",
       " 'SALES',\n",
       " 'OFFICE',\n",
       " 'AGRICULTURAL',\n",
       " 'CONSTRUCTION',\n",
       " 'MAINTENANCE',\n",
       " 'PRODUCTION',\n",
       " 'TRANSPORTATION']"
      ]
     },
     "execution_count": 77,
     "metadata": {},
     "output_type": "execute_result"
    }
   ],
   "source": [
    "categories"
   ]
  },
  {
   "cell_type": "markdown",
   "metadata": {
    "nbpresent": {
     "id": "047f733e-fb5b-4b36-9b0f-2d7aada6ea67"
    },
    "slideshow": {
     "slide_type": "slide"
    }
   },
   "source": [
    "# Now lets create some features\n",
    "\n",
    "talk about wage gap ratio feature and why you made it\n",
    "\n",
    "Again, talk about why you made the gender ratio\n",
    "\n",
    "Then I made two complimentary columns of the mens and womens share of workers by dividing each by all workers. The colinearity of these features is noted. talk more here"
   ]
  },
  {
   "cell_type": "code",
   "execution_count": 31,
   "metadata": {
    "collapsed": true,
    "nbpresent": {
     "id": "9e6bc791-09b5-406d-b1ec-5d829bdb36e8"
    },
    "slideshow": {
     "slide_type": "subslide"
    }
   },
   "outputs": [],
   "source": [
    "cleanedgenderwage['WageGap_as_Ratio'] = cleanedgenderwage['F_weekly'] / cleanedgenderwage['M_weekly']\n",
    "cleanedgenderwage['GenderRatio'] = cleanedgenderwage['F_workers'] / cleanedgenderwage['M_workers']\n",
    "cleanedgenderwage['F_share'] = cleanedgenderwage['F_workers'] / cleanedgenderwage['All_workers']\n",
    "cleanedgenderwage['M_share'] = cleanedgenderwage['M_workers'] / cleanedgenderwage['All_workers']"
   ]
  },
  {
   "cell_type": "markdown",
   "metadata": {
    "nbpresent": {
     "id": "cc49b58f-1886-4e79-aa9b-f2beb4046df6"
    },
    "slideshow": {
     "slide_type": "slide"
    }
   },
   "source": [
    "## Next I marked which occupations are male dominated\n",
    "\n",
    "Any ratio under .85 is considered male dominated as that shows a 15% or more majority over women.\n",
    "\n",
    "## I also made a column marking occupations with significant wage gaps\n",
    "\n",
    "For our purposes, a significant wage gap is a difference of 15% or more over women."
   ]
  },
  {
   "cell_type": "code",
   "execution_count": 33,
   "metadata": {
    "collapsed": true,
    "nbpresent": {
     "id": "1333f130-100d-48fb-a430-c42ef508540f"
    },
    "slideshow": {
     "slide_type": "subslide"
    }
   },
   "outputs": [],
   "source": [
    "cleanedgenderwage['Male_Dominated'] = np.where(cleanedgenderwage['GenderRatio'] > .85, 0, 1)\n",
    "cleanedgenderwage['Significant_wage_gap'] = np.where(cleanedgenderwage['WageGap_as_Ratio'] > .85, 0, 1)"
   ]
  },
  {
   "cell_type": "markdown",
   "metadata": {
    "nbpresent": {
     "id": "2cafcd2b-bb3b-4519-ac5b-2198e3ca337a"
    },
    "slideshow": {
     "slide_type": "slide"
    }
   },
   "source": [
    "## Lets plot some of these new features\n",
    "\n",
    "We'll look at a distribution plot of the wage gap, bar plots of weekly income by occupation, wage gap by occupation, gender ratio by occupation, wage ratio by occupation, and a scatter plot of mens weekly income and womens weekly income as a function of the reported occupation median income, color coded to each occupation."
   ]
  },
  {
   "cell_type": "code",
   "execution_count": 69,
   "metadata": {
    "nbpresent": {
     "id": "49bd6b77-034d-4171-abbb-28bd56376b9c"
    },
    "scrolled": true,
    "slideshow": {
     "slide_type": "slide"
    }
   },
   "outputs": [
    {
     "data": {
      "image/png": "[encoded data removed]",
      "text/plain": [
       "<matplotlib.figure.Figure at 0x111573860>"
      ]
     },
     "metadata": {},
     "output_type": "display_data"
    }
   ],
   "source": [
    "sns.kdeplot(data=cleanedgenderwage['WageGap_as_Ratio'])\n",
    "plt.show()"
   ]
  },
  {
   "cell_type": "markdown",
   "metadata": {
    "scrolled": true,
    "slideshow": {
     "slide_type": "slide"
    }
   },
   "source": [
    "\n",
    "# Now lets look at the ratio of workers\n",
    "plt.figure(figsize=((10,30)))\n",
    "sns.barplot(x='GenderRatio',\n",
    "            y='Occupation',\n",
    "            data=cleanedgenderwage.sort_values('GenderRatio', ascending=False))\n",
    "plt.show()"
   ]
  },
  {
   "cell_type": "code",
   "execution_count": 78,
   "metadata": {
    "nbpresent": {
     "id": "907ccaa3-3534-440c-abe0-073033236d19"
    },
    "scrolled": true,
    "slideshow": {
     "slide_type": "slide"
    }
   },
   "outputs": [
    {
     "data": {
      "image/png": "[encoded data removed]",
      "text/plain": [
       "<matplotlib.figure.Figure at 0x111307550>"
      ]
     },
     "metadata": {},
     "output_type": "display_data"
    }
   ],
   "source": [
    "# Look at wage ratio by occupation\n",
    "plt.figure(figsize=((10,30)))\n",
    "sns.barplot(x='WageGap_as_Ratio',\n",
    "            y='Occupation',\n",
    "            data=cleanedgenderwage.sort_values('WageGap_as_Ratio', ascending=False))\n",
    "plt.axvline(x=1, color='black', linestyle='solid')\n",
    "plt.title('Wage Ratio by Occupation')\n",
    "plt.show()"
   ]
  },
  {
   "cell_type": "markdown",
   "metadata": {
    "nbpresent": {
     "id": "62cfef4d-f440-443f-9e5b-25594a880452"
    },
    "slideshow": {
     "slide_type": "skip"
    }
   },
   "source": [
    "# Lets take a look at some lm plots to see if there is a relationship between income and gender ratios"
   ]
  },
  {
   "cell_type": "markdown",
   "metadata": {
    "nbpresent": {
     "id": "a5eff97a-1367-4abe-bbd9-cbaaa2f24455"
    },
    "slideshow": {
     "slide_type": "skip"
    }
   },
   "source": [
    "#  Make these 4 subplots not 4 plots in a row"
   ]
  },
  {
   "cell_type": "code",
   "execution_count": null,
   "metadata": {
    "collapsed": true,
    "nbpresent": {
     "id": "a730de7c-e3e0-41d7-8611-75d997a087e3"
    },
    "slideshow": {
     "slide_type": "skip"
    }
   },
   "outputs": [],
   "source": []
  },
  {
   "cell_type": "code",
   "execution_count": 38,
   "metadata": {
    "nbpresent": {
     "id": "f1e2d017-06a8-4b9c-9199-3498d15a6515"
    },
    "scrolled": true,
    "slideshow": {
     "slide_type": "skip"
    }
   },
   "outputs": [
    {
     "data": {
      "image/png": "[encoded data removed]",
      "text/plain": [
       "<matplotlib.figure.Figure at 0x112ad72b0>"
      ]
     },
     "metadata": {},
     "output_type": "display_data"
    },
    {
     "data": {
      "image/png": "[encoded data removed]",
      "text/plain": [
       "<matplotlib.figure.Figure at 0x111ba1a20>"
      ]
     },
     "metadata": {},
     "output_type": "display_data"
    },
    {
     "data": {
      "image/png": "[encoded data removed]",
      "text/plain": [
       "<matplotlib.figure.Figure at 0x111bbc2e8>"
      ]
     },
     "metadata": {},
     "output_type": "display_data"
    },
    {
     "data": {
      "image/png": "[encoded data removed]",
      "text/plain": [
       "<matplotlib.figure.Figure at 0x1119370f0>"
      ]
     },
     "metadata": {},
     "output_type": "display_data"
    },
    {
     "data": {
      "image/png": "[encoded data removed]",
      "text/plain": [
       "<matplotlib.figure.Figure at 0x1119ec630>"
      ]
     },
     "metadata": {},
     "output_type": "display_data"
    }
   ],
   "source": [
    "fig, ax = plt.subplots(nrows=2, ncols=2)\n",
    "\n",
    "plt.subplot(2, 2, 1)\n",
    "\n",
    "sns.lmplot(x='M_share', y='F_weekly', data=cleanedgenderwage)\n",
    "\n",
    "plt.subplot(2, 2, 2)\n",
    "sns.lmplot(x='M_share', y='M_weekly', data=cleanedgenderwage)\n",
    "\n",
    "plt.subplot(2, 2, 3)\n",
    "sns.lmplot(x='F_share', y='F_weekly', data=cleanedgenderwage)\n",
    "\n",
    "plt.subplot(2, 2, 4)\n",
    "sns.lmplot(x='F_share', y='M_weekly', data=cleanedgenderwage)\n",
    "\n",
    "plt.show()"
   ]
  },
  {
   "cell_type": "markdown",
   "metadata": {
    "nbpresent": {
     "id": "6098b089-458a-412b-92a8-7976ef7e00e8"
    },
    "slideshow": {
     "slide_type": "slide"
    }
   },
   "source": [
    "# Lets look at a bigger scatter plot of m/f incomes, and color it according to occupation"
   ]
  },
  {
   "cell_type": "code",
   "execution_count": 39,
   "metadata": {
    "nbpresent": {
     "id": "0a1ba25a-f70c-4e1c-af65-2313e58da766"
    },
    "scrolled": false,
    "slideshow": {
     "slide_type": "slide"
    }
   },
   "outputs": [
    {
     "data": {
      "image/png": "[encoded data removed]",
      "text/plain": [
       "<matplotlib.figure.Figure at 0x1119379e8>"
      ]
     },
     "metadata": {},
     "output_type": "display_data"
    }
   ],
   "source": [
    "# plot wage by gender and color by occupation category\n",
    "fig = plt.figure(figsize=(7,7))\n",
    "ax = fig.add_subplot(111)\n",
    "ax.set_title(\"Wages by sex and occupation category\")\n",
    "ax.set_xlabel(\"Field Median Wage\")\n",
    "ax.set_ylabel(\"Women Median Wage\")\n",
    "x = cleanedgenderwage['All_weekly']\n",
    "y = cleanedgenderwage['F_weekly']\n",
    "y2 = cleanedgenderwage['M_weekly']\n",
    "colors = [str(item) for item in cleanedgenderwage['Occupation_Category']]\n",
    "\n",
    "ax.scatter(x, y, s=20, c=cleanedgenderwage['Occupation_Category'], marker = 'x', cmap=plt.cm.autumn);\n",
    "ax.scatter(x, y2 ,s=20, c=cleanedgenderwage['Occupation_Category'], marker = 'o', cmap=plt.cm.winter);\n",
    "plt.legend()\n",
    "plt.show()\n"
   ]
  },
  {
   "cell_type": "markdown",
   "metadata": {
    "nbpresent": {
     "id": "6f0e944e-f139-44b0-a89b-12fbb8f56a88"
    },
    "slideshow": {
     "slide_type": "slide"
    }
   },
   "source": [
    "# Time for some MODELS\n",
    "\n",
    "we will be reviewing linear or logisitic regression classifier, then lasso regression classifier, then a random forest classifier\n",
    "\n",
    "The questions I will be looking to answer today is:\n",
    "     - Can you predict the occupational category given wage, gender, gender ratio and share of females for that field, if that field is male dominated or not, and if that feild has a significant wage gap? \n",
    "\n",
    "If we are able to accurately predict the occuational category using a given wage, gender, or share of females, then perhaps there is some other underlying structure influencing wages."
   ]
  },
  {
   "cell_type": "code",
   "execution_count": 40,
   "metadata": {
    "collapsed": true,
    "nbpresent": {
     "id": "33c53aab-d5aa-4a14-a603-048c6bd4d241"
    },
    "slideshow": {
     "slide_type": "skip"
    }
   },
   "outputs": [],
   "source": [
    "# make new dfs here\n",
    "F_df = pd.DataFrame()\n",
    "M_df = pd.DataFrame()\n",
    "\n",
    "# make category variable for gender\n",
    "F_df['Wage'] = cleanedgenderwage['F_weekly']\n",
    "M_df['Wage'] = cleanedgenderwage['M_weekly']\n",
    "\n",
    "F_df['Male_Dominated'] = cleanedgenderwage['Male_Dominated']\n",
    "M_df['Male_Dominated'] = cleanedgenderwage['Male_Dominated']\n",
    "\n",
    "F_df['Significant_wage_gap'] = cleanedgenderwage['Significant_wage_gap']\n",
    "M_df['Significant_wage_gap'] = cleanedgenderwage['Significant_wage_gap']\n",
    "\n",
    "F_df['WageGap_as_Ratio'] = cleanedgenderwage['WageGap_as_Ratio']\n",
    "M_df['WageGap_as_Ratio'] = cleanedgenderwage['WageGap_as_Ratio']\n",
    "\n",
    "F_df['Gender'] = np.ones(len(cleanedgenderwage))\n",
    "M_df['Gender'] = np.zeros(len(cleanedgenderwage))\n",
    "\n",
    "F_df['F_share'] = cleanedgenderwage['F_share']\n",
    "M_df['F_share'] = cleanedgenderwage['F_share']\n",
    "F_df['GenderRatio'] = cleanedgenderwage['GenderRatio']\n",
    "M_df['GenderRatio'] = cleanedgenderwage['GenderRatio']\n",
    "\n",
    "F_df['Occupation_Category'] = cleanedgenderwage['Occupation_Category_label']\n",
    "M_df['Occupation_Category'] = cleanedgenderwage['Occupation_Category_label']\n",
    "\n",
    "\n",
    "F_df['Occupation_Median_wage'] = cleanedgenderwage['All_weekly']\n",
    "M_df['Occupation_Median_wage'] = cleanedgenderwage['All_weekly']\n",
    "\n",
    "combined_df = F_df.append(M_df)\n",
    "\n"
   ]
  },
  {
   "cell_type": "markdown",
   "metadata": {
    "nbpresent": {
     "id": "e861e6f4-7193-4e03-b797-1ab25fe92e62"
    },
    "slideshow": {
     "slide_type": "skip"
    }
   },
   "source": [
    "# Lets make a function to test our models,"
   ]
  },
  {
   "cell_type": "code",
   "execution_count": 41,
   "metadata": {
    "collapsed": true,
    "nbpresent": {
     "id": "5b5d3bc8-d94f-4c6f-81bb-0442c3b9c41a"
    },
    "slideshow": {
     "slide_type": "skip"
    }
   },
   "outputs": [],
   "source": [
    "# set up training and testing sets, fit model, score model\n",
    "# need to split up dataset before oversampling\n",
    "\n",
    "\n",
    "\n",
    "def model_testing(model, X_test, y_test, X_train, y_train):\n",
    "    model.fit(X_train, y_train)\n",
    "    y_pred = model.predict(X_test)\n",
    "    scored_model_train = model.score(X_train, y_train)\n",
    "    scored_model_test = model.score(X_test, y_test)\n",
    "    model_accuracy = accuracy_score(y_test, y_pred)\n",
    "    print(\"Model Score with Training data:\")\n",
    "    print(scored_model_train)\n",
    "    print(\"Model Score with Testing data:\")\n",
    "    print(scored_model_test)\n",
    "    print(\"Accuracy Score\")\n",
    "    print(model_accuracy)\n",
    "   "
   ]
  },
  {
   "cell_type": "code",
   "execution_count": 42,
   "metadata": {
    "collapsed": true,
    "nbpresent": {
     "id": "71987aa2-17aa-441d-a56f-1e0cd5e8c64f"
    },
    "slideshow": {
     "slide_type": "skip"
    }
   },
   "outputs": [],
   "source": [
    "def sampled_set(data, sample_count):\n",
    "    sampled = np.random.choice(a=data, size=sample_count)\n",
    "    return(sampled)\n"
   ]
  },
  {
   "cell_type": "code",
   "execution_count": 43,
   "metadata": {
    "collapsed": true,
    "nbpresent": {
     "id": "4cf49aa0-d831-4b02-a513-04a915c5ce18"
    },
    "slideshow": {
     "slide_type": "skip"
    }
   },
   "outputs": [],
   "source": [
    "from imblearn.over_sampling import SMOTE\n",
    "smote = SMOTE(k=3, ratio=1, kind='regular')"
   ]
  },
  {
   "cell_type": "markdown",
   "metadata": {
    "nbpresent": {
     "id": "d9567919-78b0-43b5-9e67-216aaef2c751"
    },
    "slideshow": {
     "slide_type": "slide"
    }
   },
   "source": [
    "Next steps are to scale our data, split it up and resample our training data, then test our models."
   ]
  },
  {
   "cell_type": "code",
   "execution_count": 68,
   "metadata": {
    "nbpresent": {
     "id": "b3f32c4c-d590-423c-8211-9fa879d70a0c"
    },
    "slideshow": {
     "slide_type": "skip"
    }
   },
   "outputs": [
    {
     "ename": "ValueError",
     "evalue": "a must be 1-dimensional",
     "output_type": "error",
     "traceback": [
      "\u001b[0;31m---------------------------------------------------------------------------\u001b[0m",
      "\u001b[0;31mValueError\u001b[0m                                Traceback (most recent call last)",
      "\u001b[0;32m<ipython-input-68-0831a3c4af51>\u001b[0m in \u001b[0;36m<module>\u001b[0;34m()\u001b[0m\n\u001b[1;32m     18\u001b[0m \u001b[0;34m\u001b[0m\u001b[0m\n\u001b[1;32m     19\u001b[0m \u001b[0;31m# Lets do some bootstrapping for our resample\u001b[0m\u001b[0;34m\u001b[0m\u001b[0;34m\u001b[0m\u001b[0m\n\u001b[0;32m---> 20\u001b[0;31m \u001b[0mX_train_resam\u001b[0m \u001b[0;34m=\u001b[0m \u001b[0msampled_set\u001b[0m\u001b[0;34m(\u001b[0m\u001b[0mX_train\u001b[0m\u001b[0;34m,\u001b[0m \u001b[0;36m500\u001b[0m\u001b[0;34m)\u001b[0m\u001b[0;34m\u001b[0m\u001b[0m\n\u001b[0m\u001b[1;32m     21\u001b[0m \u001b[0my_train_resam\u001b[0m \u001b[0;34m=\u001b[0m \u001b[0msampled_set\u001b[0m\u001b[0;34m(\u001b[0m\u001b[0my_train\u001b[0m\u001b[0;34m,\u001b[0m \u001b[0;36m500\u001b[0m\u001b[0;34m)\u001b[0m\u001b[0;34m\u001b[0m\u001b[0m\n",
      "\u001b[0;32m<ipython-input-42-e749672e6189>\u001b[0m in \u001b[0;36msampled_set\u001b[0;34m(data, sample_count)\u001b[0m\n\u001b[1;32m      1\u001b[0m \u001b[0;32mdef\u001b[0m \u001b[0msampled_set\u001b[0m\u001b[0;34m(\u001b[0m\u001b[0mdata\u001b[0m\u001b[0;34m,\u001b[0m \u001b[0msample_count\u001b[0m\u001b[0;34m)\u001b[0m\u001b[0;34m:\u001b[0m\u001b[0;34m\u001b[0m\u001b[0m\n\u001b[0;32m----> 2\u001b[0;31m     \u001b[0msampled\u001b[0m \u001b[0;34m=\u001b[0m \u001b[0mnp\u001b[0m\u001b[0;34m.\u001b[0m\u001b[0mrandom\u001b[0m\u001b[0;34m.\u001b[0m\u001b[0mchoice\u001b[0m\u001b[0;34m(\u001b[0m\u001b[0ma\u001b[0m\u001b[0;34m=\u001b[0m\u001b[0mdata\u001b[0m\u001b[0;34m,\u001b[0m \u001b[0msize\u001b[0m\u001b[0;34m=\u001b[0m\u001b[0msample_count\u001b[0m\u001b[0;34m)\u001b[0m\u001b[0;34m\u001b[0m\u001b[0m\n\u001b[0m\u001b[1;32m      3\u001b[0m     \u001b[0;32mreturn\u001b[0m\u001b[0;34m(\u001b[0m\u001b[0msampled\u001b[0m\u001b[0;34m)\u001b[0m\u001b[0;34m\u001b[0m\u001b[0m\n",
      "\u001b[0;32mmtrand.pyx\u001b[0m in \u001b[0;36mmtrand.RandomState.choice\u001b[0;34m()\u001b[0m\n",
      "\u001b[0;31mValueError\u001b[0m: a must be 1-dimensional"
     ]
    }
   ],
   "source": [
    "# scale columns here\n",
    "scaler = StandardScaler()\n",
    "columns = ['Wage',\n",
    "           'Male_Dominated',\n",
    "           'Significant_wage_gap',\n",
    "           'WageGap_as_Ratio',\n",
    "           'Gender',\n",
    "           'F_share', \n",
    "           'GenderRatio']\n",
    "\n",
    "# split up data first, then resample only the training data, maybe try smote again\n",
    "X = combined_df[columns]\n",
    "\n",
    "X_std = StandardScaler().fit_transform(X)\n",
    "y = combined_df['Occupation_Category']\n",
    "\n",
    "X_train, X_test, y_train, y_test = train_test_split(X_std, y, test_size=.35)\n",
    "\n",
    "# Lets do some bootstrapping for our resample\n",
    "X_train_resam = sampled_set(X_train, 500)\n",
    "y_train_resam = sampled_set(y_train, 500)"
   ]
  },
  {
   "cell_type": "code",
   "execution_count": 67,
   "metadata": {
    "nbpresent": {
     "id": "739d098b-7949-477c-9752-f483fa6131e3"
    },
    "slideshow": {
     "slide_type": "skip"
    }
   },
   "outputs": [
    {
     "data": {
      "text/plain": [
       "154"
      ]
     },
     "execution_count": 67,
     "metadata": {},
     "output_type": "execute_result"
    }
   ],
   "source": [
    "len(y_train)"
   ]
  },
  {
   "cell_type": "code",
   "execution_count": 46,
   "metadata": {
    "nbpresent": {
     "id": "c6240c96-ec75-485a-b04b-f0863feff5e0"
    },
    "slideshow": {
     "slide_type": "slide"
    }
   },
   "outputs": [
    {
     "name": "stdout",
     "output_type": "stream",
     "text": [
      "Model Score with Training data:\n",
      "0.37012987012987014\n",
      "Model Score with Testing data:\n",
      "0.4523809523809524\n",
      "Accuracy Score\n",
      "0.4523809523809524\n"
     ]
    }
   ],
   "source": [
    "# Linear/logisitic Regression here\n",
    "from sklearn.linear_model import LogisticRegression\n",
    "logr = LogisticRegression()\n",
    "model_testing(logr, X_test, y_test, X_train, y_train)"
   ]
  },
  {
   "cell_type": "code",
   "execution_count": 47,
   "metadata": {
    "collapsed": true,
    "nbpresent": {
     "id": "b4dab814-4cd2-4e75-befc-85dfec9d8b19"
    },
    "slideshow": {
     "slide_type": "skip"
    }
   },
   "outputs": [],
   "source": [
    "# Lasso Regression classifier here\n",
    "lasso = linear_model.Lasso()\n",
    "#model_testing(lasso, X_std, y, .35)"
   ]
  },
  {
   "cell_type": "code",
   "execution_count": 48,
   "metadata": {
    "nbpresent": {
     "id": "f6c298bd-62f1-460c-8658-376c3d71edf2"
    },
    "slideshow": {
     "slide_type": "subslide"
    }
   },
   "outputs": [
    {
     "name": "stdout",
     "output_type": "stream",
     "text": [
      "Model Score with Training data:\n",
      "0.36363636363636365\n",
      "Model Score with Testing data:\n",
      "0.3333333333333333\n",
      "Accuracy Score\n",
      "0.3333333333333333\n"
     ]
    }
   ],
   "source": [
    "# Ridge Regression classifier here\n",
    "ridge = linear_model.RidgeClassifier()\n",
    "model_testing(ridge, X_test, y_test, X_train, y_train)"
   ]
  },
  {
   "cell_type": "code",
   "execution_count": 49,
   "metadata": {
    "nbpresent": {
     "id": "75711480-2bd4-42de-b901-735aaddc5102"
    },
    "slideshow": {
     "slide_type": "subslide"
    }
   },
   "outputs": [
    {
     "name": "stdout",
     "output_type": "stream",
     "text": [
      "Model Score with Training data:\n",
      "0.6103896103896104\n",
      "Model Score with Testing data:\n",
      "0.38095238095238093\n",
      "Accuracy Score\n",
      "0.38095238095238093\n"
     ]
    }
   ],
   "source": [
    "# Random Forest Classifier here\n",
    "forest = ensemble.RandomForestClassifier(n_estimators=300, max_depth=3)\n",
    "model_testing(forest, X_test, y_test, X_train, y_train)"
   ]
  },
  {
   "cell_type": "code",
   "execution_count": 50,
   "metadata": {
    "nbpresent": {
     "id": "0032ec01-8d2e-4042-a823-e717e96bfc7c"
    },
    "slideshow": {
     "slide_type": "slide"
    }
   },
   "outputs": [
    {
     "name": "stdout",
     "output_type": "stream",
     "text": [
      "Model Score with Training data:\n",
      "0.44155844155844154\n",
      "Model Score with Testing data:\n",
      "0.27380952380952384\n",
      "Accuracy Score\n",
      "0.27380952380952384\n"
     ]
    }
   ],
   "source": [
    "# SVM?\n",
    "from sklearn.svm import SVC\n",
    "svc = SVC()\n",
    "model_testing(svc, X_test, y_test, X_train, y_train)"
   ]
  },
  {
   "cell_type": "code",
   "execution_count": 51,
   "metadata": {
    "nbpresent": {
     "id": "0d61573b-bbd6-4408-b203-c42dd6d05a12"
    },
    "slideshow": {
     "slide_type": "subslide"
    }
   },
   "outputs": [
    {
     "name": "stdout",
     "output_type": "stream",
     "text": [
      "Model Score with Training data:\n",
      "1.0\n",
      "Model Score with Testing data:\n",
      "0.5952380952380952\n",
      "Accuracy Score\n",
      "0.5952380952380952\n"
     ]
    }
   ],
   "source": [
    "from sklearn.tree import DecisionTreeClassifier\n",
    "dtree = DecisionTreeClassifier()\n",
    "model_testing(dtree, X_test, y_test, X_train, y_train)"
   ]
  },
  {
   "cell_type": "code",
   "execution_count": 52,
   "metadata": {
    "nbpresent": {
     "id": "af4c301e-b1b2-440c-ae9a-e4597f5b7fad"
    },
    "slideshow": {
     "slide_type": "subslide"
    }
   },
   "outputs": [
    {
     "name": "stdout",
     "output_type": "stream",
     "text": [
      "Model Score with Training data:\n",
      "1.0\n",
      "Model Score with Testing data:\n",
      "0.6309523809523809\n",
      "Accuracy Score\n",
      "0.6309523809523809\n"
     ]
    }
   ],
   "source": [
    "extree = ensemble.ExtraTreesClassifier()\n",
    "model_testing(extree, X_test, y_test, X_train, y_train)"
   ]
  },
  {
   "cell_type": "code",
   "execution_count": 53,
   "metadata": {
    "nbpresent": {
     "id": "bfcac23d-d5fb-45a6-a4be-824025d3ca48"
    },
    "slideshow": {
     "slide_type": "subslide"
    }
   },
   "outputs": [
    {
     "name": "stdout",
     "output_type": "stream",
     "text": [
      "Model Score with Training data:\n",
      "1.0\n",
      "Model Score with Testing data:\n",
      "0.6190476190476191\n",
      "Accuracy Score\n",
      "0.6190476190476191\n"
     ]
    }
   ],
   "source": [
    "gradient = ensemble.GradientBoostingClassifier()\n",
    "model_testing(gradient, X_test, y_test, X_train, y_train)"
   ]
  },
  {
   "cell_type": "markdown",
   "metadata": {
    "nbpresent": {
     "id": "72ff7f22-da8c-4ac4-9021-a2b3208d218f"
    },
    "slideshow": {
     "slide_type": "slide"
    }
   },
   "source": [
    "The tpp three preliminary models were the decision tree classifier, the extra trees classifier and the gradient boosting classifier. \n",
    "\n",
    "Next we will use SKLearn's built in tool GrilSearch to find the best hyperparameters."
   ]
  },
  {
   "cell_type": "code",
   "execution_count": null,
   "metadata": {
    "collapsed": true,
    "nbpresent": {
     "id": "16cfedd4-7e20-4127-9913-fea697e50fa3"
    },
    "slideshow": {
     "slide_type": "skip"
    }
   },
   "outputs": [],
   "source": []
  },
  {
   "cell_type": "code",
   "execution_count": 54,
   "metadata": {
    "collapsed": true,
    "nbpresent": {
     "id": "62adb034-7b62-4521-9046-50da9801621b"
    },
    "slideshow": {
     "slide_type": "skip"
    }
   },
   "outputs": [],
   "source": [
    "# Put hyper parameter adjustment here\n",
    "from sklearn.model_selection import GridSearchCV\n",
    "\n",
    "extra_tree_param = {'criterion': ('gini', 'entropy'),\n",
    "                    'max_depth': (2, 3, 5),\n",
    "                    'n_estimators': (10, 50, 100)}\n",
    "decision_tree_param = {'criterion': ('gini', 'entropy'),\n",
    "                       'max_depth': (2, 3, 5)}\n",
    "gradient_params = {'learning_rate': (.01, .5, 1),\n",
    "                   'n_estimators':(100, 150, 200),\n",
    "                   'max_depth':(2, 3, 4, 5, 6)}\n",
    "\n",
    "def check_grid(estimator, params):\n",
    "    grid_classifier = GridSearchCV(estimator=estimator, param_grid=params)\n",
    "    grid_classifier.fit(X_std, y)\n",
    "    grid_score = grid_classifier.score(X_std, y)\n",
    "    print(grid_score)"
   ]
  },
  {
   "cell_type": "code",
   "execution_count": 55,
   "metadata": {
    "nbpresent": {
     "id": "a206a27c-ae23-46d8-bd1b-a412d7927370"
    },
    "slideshow": {
     "slide_type": "slide"
    }
   },
   "outputs": [
    {
     "name": "stdout",
     "output_type": "stream",
     "text": [
      "0.6554621848739496\n"
     ]
    }
   ],
   "source": [
    "check_grid(dtree, decision_tree_param)"
   ]
  },
  {
   "cell_type": "code",
   "execution_count": 56,
   "metadata": {
    "nbpresent": {
     "id": "7cc5d79a-a117-4c35-8029-62bc8e53b4be"
    },
    "slideshow": {
     "slide_type": "subslide"
    }
   },
   "outputs": [
    {
     "name": "stdout",
     "output_type": "stream",
     "text": [
      "0.7857142857142857\n"
     ]
    }
   ],
   "source": [
    "check_grid(extree, extra_tree_param)"
   ]
  },
  {
   "cell_type": "code",
   "execution_count": 57,
   "metadata": {
    "nbpresent": {
     "id": "7a173aa5-ed04-48f7-b9cb-473419e73381"
    },
    "slideshow": {
     "slide_type": "subslide"
    }
   },
   "outputs": [
    {
     "name": "stdout",
     "output_type": "stream",
     "text": [
      "1.0\n"
     ]
    }
   ],
   "source": [
    "check_grid(gradient, gradient_params)"
   ]
  },
  {
   "cell_type": "code",
   "execution_count": 80,
   "metadata": {
    "nbpresent": {
     "id": "a4465df8-57b8-4854-b3d5-9663d256aea0"
    }
   },
   "outputs": [
    {
     "data": {
      "text/plain": [
       "{'cv': None,\n",
       " 'error_score': 'raise',\n",
       " 'estimator': GradientBoostingClassifier(criterion='friedman_mse', init=None,\n",
       "               learning_rate=0.1, loss='deviance', max_depth=3,\n",
       "               max_features=None, max_leaf_nodes=None,\n",
       "               min_impurity_decrease=0.0, min_impurity_split=None,\n",
       "               min_samples_leaf=1, min_samples_split=2,\n",
       "               min_weight_fraction_leaf=0.0, n_estimators=100,\n",
       "               presort='auto', random_state=None, subsample=1.0, verbose=0,\n",
       "               warm_start=False),\n",
       " 'estimator__criterion': 'friedman_mse',\n",
       " 'estimator__init': None,\n",
       " 'estimator__learning_rate': 0.1,\n",
       " 'estimator__loss': 'deviance',\n",
       " 'estimator__max_depth': 3,\n",
       " 'estimator__max_features': None,\n",
       " 'estimator__max_leaf_nodes': None,\n",
       " 'estimator__min_impurity_decrease': 0.0,\n",
       " 'estimator__min_impurity_split': None,\n",
       " 'estimator__min_samples_leaf': 1,\n",
       " 'estimator__min_samples_split': 2,\n",
       " 'estimator__min_weight_fraction_leaf': 0.0,\n",
       " 'estimator__n_estimators': 100,\n",
       " 'estimator__presort': 'auto',\n",
       " 'estimator__random_state': None,\n",
       " 'estimator__subsample': 1.0,\n",
       " 'estimator__verbose': 0,\n",
       " 'estimator__warm_start': False,\n",
       " 'fit_params': None,\n",
       " 'iid': True,\n",
       " 'n_jobs': 1,\n",
       " 'param_grid': {'learning_rate': (0.01, 0.5, 1),\n",
       "  'max_depth': (2, 3, 4, 5, 6),\n",
       "  'n_estimators': (100, 150, 200)},\n",
       " 'pre_dispatch': '2*n_jobs',\n",
       " 'refit': True,\n",
       " 'return_train_score': 'warn',\n",
       " 'scoring': None,\n",
       " 'verbose': 0}"
      ]
     },
     "execution_count": 80,
     "metadata": {},
     "output_type": "execute_result"
    }
   ],
   "source": [
    "# get params here for best model\n",
    "grid_cv = GridSearchCV(estimator=gradient, param_grid=gradient_params)\n",
    "grid_cv.get_params()"
   ]
  },
  {
   "cell_type": "code",
   "execution_count": 62,
   "metadata": {
    "collapsed": true,
    "nbpresent": {
     "id": "b02e55bf-dfaa-4b01-a4e8-42daf0d7a9ae"
    }
   },
   "outputs": [],
   "source": [
    "# Put model validation here"
   ]
  },
  {
   "cell_type": "markdown",
   "metadata": {
    "nbpresent": {
     "id": "14d345cc-2731-4ff2-ac7c-71e0f5930170"
    }
   },
   "source": [
    "# Put conclusion here"
   ]
  }
 ],
 "metadata": {
  "celltoolbar": "Slideshow",
  "kernelspec": {
   "display_name": "Python [default]",
   "language": "python",
   "name": "python3"
  },
  "language_info": {
   "codemirror_mode": {
    "name": "ipython",
    "version": 3
   },
   "file_extension": ".py",
   "mimetype": "text/x-python",
   "name": "python",
   "nbconvert_exporter": "python",
   "pygments_lexer": "ipython3",
   "version": "3.6.1"
  },
  "nbpresent": {
   "slides": {
    "004a7b16-0af0-4980-a9ca-8d2c33a3a226": {
     "id": "004a7b16-0af0-4980-a9ca-8d2c33a3a226",
     "prev": "4bedbb58-50b4-4d20-8779-b6824a45deb9",
     "regions": {
      "0381ee34-269e-4a08-a5bf-17df7a0cd46b": {
       "attrs": {
        "height": 0.8,
        "width": 0.8,
        "x": 0.1,
        "y": 0.1
       },
       "content": {
        "cell": "b3f32c4c-d590-423c-8211-9fa879d70a0c",
        "part": "whole"
       },
       "id": "0381ee34-269e-4a08-a5bf-17df7a0cd46b"
      }
     }
    },
    "03c987fb-96e9-40b5-bb0f-74c49351928a": {
     "id": "03c987fb-96e9-40b5-bb0f-74c49351928a",
     "prev": "e8626f16-56bc-40d8-81ea-73e0ba81597a",
     "regions": {
      "b351ca9f-4a4c-484d-a081-f4bbff60b5cb": {
       "attrs": {
        "height": 0.8,
        "width": 0.8,
        "x": 0.1,
        "y": 0.1
       },
       "content": {
        "cell": "75711480-2bd4-42de-b901-735aaddc5102",
        "part": "whole"
       },
       "id": "b351ca9f-4a4c-484d-a081-f4bbff60b5cb"
      }
     }
    },
    "054515a1-3dec-4fe2-8f8b-f8e7bf62000f": {
     "id": "054515a1-3dec-4fe2-8f8b-f8e7bf62000f",
     "prev": "0a86e296-2623-4036-9d24-30836aadf0da",
     "regions": {
      "982387c2-023d-49f4-89cb-d713a9619c2b": {
       "attrs": {
        "height": 0.8,
        "width": 0.8,
        "x": 0.1,
        "y": 0.1
       },
       "content": {
        "cell": "7cce8c33-cf73-470a-a4ad-4b556c5de499",
        "part": "whole"
       },
       "id": "982387c2-023d-49f4-89cb-d713a9619c2b"
      }
     }
    },
    "0a86e296-2623-4036-9d24-30836aadf0da": {
     "id": "0a86e296-2623-4036-9d24-30836aadf0da",
     "prev": "355a42ee-dc8b-4e39-a1f6-ada2d1a3456a",
     "regions": {
      "72e92261-e3bf-4a7d-b685-aff28fa24c1a": {
       "attrs": {
        "height": 0.8,
        "width": 0.8,
        "x": 0.1,
        "y": 0.1
       },
       "content": {
        "cell": "2e3b8d0c-4626-4bc4-af47-f809162c5099",
        "part": "whole"
       },
       "id": "72e92261-e3bf-4a7d-b685-aff28fa24c1a"
      }
     }
    },
    "0e39e2f3-6fa2-4728-93cb-155776991667": {
     "id": "0e39e2f3-6fa2-4728-93cb-155776991667",
     "prev": "74d7a892-1d23-4a72-8f63-66e83fd3d065",
     "regions": {
      "8198d126-824b-46d9-b844-d614d60b9257": {
       "attrs": {
        "height": 0.8,
        "width": 0.8,
        "x": 0.1,
        "y": 0.1
       },
       "content": {
        "cell": "8e46436b-0559-4026-a260-32d753341b55",
        "part": "whole"
       },
       "id": "8198d126-824b-46d9-b844-d614d60b9257"
      }
     }
    },
    "0e8b2e70-c97a-4807-9fc1-ccbb09f11354": {
     "id": "0e8b2e70-c97a-4807-9fc1-ccbb09f11354",
     "prev": "7039df5d-7ad1-4bad-94d7-964e3359ed0a",
     "regions": {
      "42060897-0d1b-4439-9ad3-39e5aaf7d80d": {
       "attrs": {
        "height": 0.8,
        "width": 0.8,
        "x": 0.1,
        "y": 0.1
       },
       "content": {
        "cell": "f1e2d017-06a8-4b9c-9199-3498d15a6515",
        "part": "whole"
       },
       "id": "42060897-0d1b-4439-9ad3-39e5aaf7d80d"
      }
     }
    },
    "144b9685-d538-49cc-aaa1-9432cf3e2618": {
     "id": "144b9685-d538-49cc-aaa1-9432cf3e2618",
     "prev": "441f0cef-e75d-4554-b293-55280e0f27ff",
     "regions": {
      "fea5fd63-cdb8-41a4-b44d-1d2bfb3c2127": {
       "attrs": {
        "height": 0.8,
        "width": 0.8,
        "x": 0.1,
        "y": 0.1
       },
       "content": {
        "cell": "4d7d67e0-40ec-46dd-87c2-05c52060c49c",
        "part": "whole"
       },
       "id": "fea5fd63-cdb8-41a4-b44d-1d2bfb3c2127"
      }
     }
    },
    "14b8862e-ed26-4907-a553-ac46513fe3c3": {
     "id": "14b8862e-ed26-4907-a553-ac46513fe3c3",
     "prev": "4422565c-9bf8-4779-8243-1629e3bd8c86",
     "regions": {
      "b00805ba-fe8d-4135-87a1-f9d3f820d949": {
       "attrs": {
        "height": 0.8,
        "width": 0.8,
        "x": 0.1,
        "y": 0.1
       },
       "content": {
        "cell": "b4dab814-4cd2-4e75-befc-85dfec9d8b19",
        "part": "whole"
       },
       "id": "b00805ba-fe8d-4135-87a1-f9d3f820d949"
      }
     }
    },
    "1da3b60c-f8c3-432d-8611-56bca30788c4": {
     "id": "1da3b60c-f8c3-432d-8611-56bca30788c4",
     "prev": "8dacb44d-36ae-4bc0-b593-b7333bfc42f1",
     "regions": {
      "dfdbf7f1-3cbf-40a3-87f0-08106f491696": {
       "attrs": {
        "height": 0.8,
        "width": 0.8,
        "x": 0.1,
        "y": 0.1
       },
       "content": {
        "cell": "b02e55bf-dfaa-4b01-a4e8-42daf0d7a9ae",
        "part": "whole"
       },
       "id": "dfdbf7f1-3cbf-40a3-87f0-08106f491696"
      }
     }
    },
    "247bbd0e-f0ea-4b9a-90eb-1bca8a64b89b": {
     "id": "247bbd0e-f0ea-4b9a-90eb-1bca8a64b89b",
     "prev": "316680d0-69b2-4703-9682-fee65dc7bafc",
     "regions": {
      "f90b3f8c-436f-40e5-8915-61eacbc6c83e": {
       "attrs": {
        "height": 0.8,
        "width": 0.8,
        "x": 0.1,
        "y": 0.1
       },
       "content": {
        "cell": "907ccaa3-3534-440c-abe0-073033236d19",
        "part": "whole"
       },
       "id": "f90b3f8c-436f-40e5-8915-61eacbc6c83e"
      }
     }
    },
    "2f93ec17-12a3-4ffb-a0a8-88fe0d44653c": {
     "id": "2f93ec17-12a3-4ffb-a0a8-88fe0d44653c",
     "prev": "b8c5bfba-6c8f-4879-9c74-688742e11733",
     "regions": {
      "4d0e528c-4660-45d4-9038-33e2061317b2": {
       "attrs": {
        "height": 0.8,
        "width": 0.8,
        "x": 0.1,
        "y": 0.1
       },
       "content": {
        "cell": "eebcfa08-0d53-4ad6-84b5-a65d3dbc40c5",
        "part": "whole"
       },
       "id": "4d0e528c-4660-45d4-9038-33e2061317b2"
      }
     }
    },
    "30e83106-780b-46f1-8df6-e539d23784e0": {
     "id": "30e83106-780b-46f1-8df6-e539d23784e0",
     "prev": "d3a5a2a7-76dd-436b-a666-ffbf851df1ca",
     "regions": {
      "9e248727-b7f5-4a32-9a1d-9c58ad64c15f": {
       "attrs": {
        "height": 0.8,
        "width": 0.7895127116835897,
        "x": 0.12971398356316316,
        "y": 0.10621468937268762
       },
       "content": {
        "cell": "38d82001-2cb5-480e-8463-525dff903ca6",
        "part": "whole"
       },
       "id": "9e248727-b7f5-4a32-9a1d-9c58ad64c15f"
      }
     }
    },
    "31499a94-48dc-4015-85ea-a8068359a0d7": {
     "id": "31499a94-48dc-4015-85ea-a8068359a0d7",
     "prev": "004a7b16-0af0-4980-a9ca-8d2c33a3a226",
     "regions": {
      "7acacd96-fda4-420d-a531-fdebec342753": {
       "attrs": {
        "height": 0.8,
        "width": 0.8,
        "x": 0.1,
        "y": 0.1
       },
       "content": {
        "cell": "739d098b-7949-477c-9752-f483fa6131e3",
        "part": "whole"
       },
       "id": "7acacd96-fda4-420d-a531-fdebec342753"
      }
     }
    },
    "316680d0-69b2-4703-9682-fee65dc7bafc": {
     "id": "316680d0-69b2-4703-9682-fee65dc7bafc",
     "prev": "4cc20438-2d3c-4cf7-bac2-c6253ac2fa49",
     "regions": {
      "000c8251-de9f-41c4-a96f-85736554a04e": {
       "attrs": {
        "height": 0.8,
        "width": 0.8,
        "x": 0.1,
        "y": 0.1
       },
       "content": {
        "cell": "f3eb73c0-5e6a-4e6b-9307-7d87107a92f4",
        "part": "whole"
       },
       "id": "000c8251-de9f-41c4-a96f-85736554a04e"
      }
     }
    },
    "3452677a-f36f-4966-a35f-a4391f3382d3": {
     "id": "3452677a-f36f-4966-a35f-a4391f3382d3",
     "prev": "7527cfcd-f8bf-4692-9e4e-02290c8f1e32",
     "regions": {
      "f5c74297-8eed-4709-9403-87aa74a1ded0": {
       "attrs": {
        "height": 1,
        "width": 1,
        "x": 0,
        "y": 0
       },
       "id": "f5c74297-8eed-4709-9403-87aa74a1ded0"
      }
     }
    },
    "34dce738-9be0-4381-b49c-efe40c03c8b8": {
     "id": "34dce738-9be0-4381-b49c-efe40c03c8b8",
     "prev": "9ca8a246-8815-4530-88ef-605c73466a2c",
     "regions": {
      "f24d7c74-f695-47e3-afe3-a9630c8aeaa8": {
       "attrs": {
        "height": 0.8,
        "width": 0.8,
        "x": 0.1,
        "y": 0.1
       },
       "content": {
        "cell": "62adb034-7b62-4521-9046-50da9801621b",
        "part": "whole"
       },
       "id": "f24d7c74-f695-47e3-afe3-a9630c8aeaa8"
      }
     }
    },
    "355a42ee-dc8b-4e39-a1f6-ada2d1a3456a": {
     "id": "355a42ee-dc8b-4e39-a1f6-ada2d1a3456a",
     "prev": "9dffaeab-0330-4019-8612-d94d502cbf9d",
     "regions": {
      "45ac4d11-179b-47b9-9f0b-027a6a98921e": {
       "attrs": {
        "height": 0.8,
        "width": 0.8,
        "x": 0.1,
        "y": 0.1
       },
       "content": {
        "cell": "d66a7795-def9-4256-bf0b-418a68c70ae9",
        "part": "whole"
       },
       "id": "45ac4d11-179b-47b9-9f0b-027a6a98921e"
      }
     }
    },
    "3587a061-d70b-4bdf-80b6-91f280ea327f": {
     "id": "3587a061-d70b-4bdf-80b6-91f280ea327f",
     "prev": "c9cbbd5e-e189-41b6-826c-45d394951fe9",
     "regions": {
      "f8e269c3-0a8b-476b-a5bd-243c823a3ef7": {
       "attrs": {
        "height": 0.8,
        "width": 0.8,
        "x": 0.1,
        "y": 0.1
       },
       "content": {
        "cell": "0deab08b-de3e-4343-bf5e-fd5127193b35",
        "part": "whole"
       },
       "id": "f8e269c3-0a8b-476b-a5bd-243c823a3ef7"
      }
     }
    },
    "3c0f5a5b-220e-4e00-b0cd-b042db8f5181": {
     "id": "3c0f5a5b-220e-4e00-b0cd-b042db8f5181",
     "prev": "5e95914e-ad38-4e3a-a777-3cf36fcac70c",
     "regions": {
      "8a76e1be-2d34-4e56-82de-0009b5c01501": {
       "attrs": {
        "height": 0.8,
        "width": 0.8,
        "x": 0.1,
        "y": 0.1
       },
       "content": {
        "cell": "1333f130-100d-48fb-a430-c42ef508540f",
        "part": "whole"
       },
       "id": "8a76e1be-2d34-4e56-82de-0009b5c01501"
      }
     }
    },
    "3f284251-df90-48a8-bb95-94bd2e65aded": {
     "id": "3f284251-df90-48a8-bb95-94bd2e65aded",
     "prev": "7a12d817-39bb-4d0d-8c62-cbd41fff5daf",
     "regions": {
      "389e2acc-5d20-4add-9a0b-1dcc9bf0b817": {
       "attrs": {
        "height": 0.8,
        "width": 0.8,
        "x": 0.1,
        "y": 0.1
       },
       "content": {
        "cell": "ebbadf1e-46fa-4cd3-a796-22f5711c8aec",
        "part": "whole"
       },
       "id": "389e2acc-5d20-4add-9a0b-1dcc9bf0b817"
      }
     }
    },
    "40f88800-a76f-41c4-9bd8-b8abb633550c": {
     "id": "40f88800-a76f-41c4-9bd8-b8abb633550c",
     "prev": "f636522e-c00c-40f8-a85c-d25e38b63265",
     "regions": {
      "fff0cad4-aa15-4e89-ab4a-d4dcad4f7189": {
       "attrs": {
        "height": 0.8,
        "width": 0.8,
        "x": 0.1,
        "y": 0.1
       },
       "content": {
        "cell": "8d2ab5aa-3b0a-4c69-9fc4-68e700868233",
        "part": "whole"
       },
       "id": "fff0cad4-aa15-4e89-ab4a-d4dcad4f7189"
      }
     }
    },
    "4269d626-e550-4e7b-8b06-ed512ec86a0d": {
     "id": "4269d626-e550-4e7b-8b06-ed512ec86a0d",
     "prev": "d497f69b-6f0c-41cd-90dd-00366054ba69",
     "regions": {
      "3ca22e6f-34d1-4abd-8dc2-00f08a5571e2": {
       "attrs": {
        "height": 0.8,
        "width": 0.8,
        "x": 0.1,
        "y": 0.1
       },
       "content": {
        "cell": "2cafcd2b-bb3b-4519-ac5b-2198e3ca337a",
        "part": "whole"
       },
       "id": "3ca22e6f-34d1-4abd-8dc2-00f08a5571e2"
      }
     }
    },
    "441f0cef-e75d-4554-b293-55280e0f27ff": {
     "id": "441f0cef-e75d-4554-b293-55280e0f27ff",
     "prev": "44c0e262-c7cc-4b4d-aecf-25c2f774435a",
     "regions": {
      "4178e33c-c076-49f0-a86a-c5b6240b5655": {
       "attrs": {
        "height": 0.8,
        "width": 0.8,
        "x": 0.1,
        "y": 0.1
       },
       "content": {
        "cell": "3dac8c5f-9f2e-4751-94ea-6c4f3fa6cf2a",
        "part": "whole"
       },
       "id": "4178e33c-c076-49f0-a86a-c5b6240b5655"
      }
     }
    },
    "4422565c-9bf8-4779-8243-1629e3bd8c86": {
     "id": "4422565c-9bf8-4779-8243-1629e3bd8c86",
     "prev": "31499a94-48dc-4015-85ea-a8068359a0d7",
     "regions": {
      "38b128e0-5cb1-4da2-9651-90c89ebb4c1c": {
       "attrs": {
        "height": 0.8,
        "width": 0.8,
        "x": 0.1,
        "y": 0.1
       },
       "content": {
        "cell": "c6240c96-ec75-485a-b04b-f0863feff5e0",
        "part": "whole"
       },
       "id": "38b128e0-5cb1-4da2-9651-90c89ebb4c1c"
      }
     }
    },
    "44c0e262-c7cc-4b4d-aecf-25c2f774435a": {
     "id": "44c0e262-c7cc-4b4d-aecf-25c2f774435a",
     "prev": "bcb21e1a-d7e1-4224-b070-5deace7ca527",
     "regions": {
      "2e093b38-70eb-41d9-819e-82d49b49c8ca": {
       "attrs": {
        "height": 0.8,
        "width": 0.8,
        "x": 0.1,
        "y": 0.1
       },
       "content": {
        "cell": "f98f33f7-4008-4ac5-b0d1-86982220877f",
        "part": "whole"
       },
       "id": "2e093b38-70eb-41d9-819e-82d49b49c8ca"
      }
     }
    },
    "49f7f52c-e6c2-478a-916a-e3b49fe437df": {
     "id": "49f7f52c-e6c2-478a-916a-e3b49fe437df",
     "prev": "03c987fb-96e9-40b5-bb0f-74c49351928a",
     "regions": {
      "83546815-6f53-433a-b0fd-3dff47029665": {
       "attrs": {
        "height": 0.8,
        "width": 0.8,
        "x": 0.1,
        "y": 0.1
       },
       "content": {
        "cell": "0032ec01-8d2e-4042-a823-e717e96bfc7c",
        "part": "whole"
       },
       "id": "83546815-6f53-433a-b0fd-3dff47029665"
      }
     }
    },
    "4bedbb58-50b4-4d20-8779-b6824a45deb9": {
     "id": "4bedbb58-50b4-4d20-8779-b6824a45deb9",
     "prev": "8f0c67d5-c8cb-4bc0-947b-6247ce77c588",
     "regions": {
      "849de655-77fe-409c-a3e1-3611c1b23a0a": {
       "attrs": {
        "height": 0.8,
        "width": 0.8,
        "x": 0.1,
        "y": 0.1
       },
       "content": {
        "cell": "d9567919-78b0-43b5-9e67-216aaef2c751",
        "part": "whole"
       },
       "id": "849de655-77fe-409c-a3e1-3611c1b23a0a"
      }
     }
    },
    "4cc20438-2d3c-4cf7-bac2-c6253ac2fa49": {
     "id": "4cc20438-2d3c-4cf7-bac2-c6253ac2fa49",
     "prev": "8215e241-08cf-42c7-bf09-e592ec5c1d2a",
     "regions": {
      "5f482f80-a32c-4bea-98e5-0d4936a63e66": {
       "attrs": {
        "height": 0.8,
        "width": 0.8,
        "x": 0.1,
        "y": 0.1
       },
       "content": {
        "cell": "c4739f7c-87c6-4019-8e65-fbd1b4f5eca6",
        "part": "whole"
       },
       "id": "5f482f80-a32c-4bea-98e5-0d4936a63e66"
      }
     }
    },
    "4cf7f3ae-6a72-4531-ab38-7afee280aad1": {
     "id": "4cf7f3ae-6a72-4531-ab38-7afee280aad1",
     "prev": "919fe0ba-0f98-4abf-a901-088f76fb87e6",
     "regions": {
      "8ecf3531-37d5-4489-8c61-039e92287533": {
       "attrs": {
        "height": 0.8,
        "width": 0.8,
        "x": 0.1,
        "y": 0.1
       },
       "content": {
        "cell": "e861e6f4-7193-4e03-b797-1ab25fe92e62",
        "part": "whole"
       },
       "id": "8ecf3531-37d5-4489-8c61-039e92287533"
      }
     }
    },
    "4df56a62-807d-419d-8dba-dfef8286b065": {
     "id": "4df56a62-807d-419d-8dba-dfef8286b065",
     "prev": "969ae955-9155-4f67-85a8-eb0840bc9198",
     "regions": {
      "bd2263f7-1a52-4fdd-ae1c-19e24878e5e9": {
       "attrs": {
        "height": 0.8,
        "width": 0.8,
        "x": 0.1,
        "y": 0.1
       },
       "content": {
        "cell": "74e1d919-27c9-4ec0-86ed-7d97308ca201",
        "part": "whole"
       },
       "id": "bd2263f7-1a52-4fdd-ae1c-19e24878e5e9"
      }
     }
    },
    "4e9d6b22-f199-4315-b77d-c49a1b8fc321": {
     "id": "4e9d6b22-f199-4315-b77d-c49a1b8fc321",
     "prev": "6bd994e7-839b-456b-ab1c-bd79ff79d101",
     "regions": {
      "3611d800-8669-4753-87d9-1dd439c3e054": {
       "attrs": {
        "height": 0.8,
        "width": 0.8,
        "x": 0.1,
        "y": 0.1
       },
       "content": {
        "cell": "81403525-f339-48ff-a83e-c146022c534f",
        "part": "whole"
       },
       "id": "3611d800-8669-4753-87d9-1dd439c3e054"
      }
     }
    },
    "4edd4964-4ae8-4cd8-ac55-e96e99c36fc9": {
     "id": "4edd4964-4ae8-4cd8-ac55-e96e99c36fc9",
     "prev": "6d11c040-125e-4720-b0b5-7f0a2a288a1e",
     "regions": {
      "d7334e4a-7def-4891-b1d3-c880e94643bd": {
       "attrs": {
        "height": 0.8,
        "width": 0.8,
        "x": 0.1,
        "y": 0.1
       },
       "content": {
        "cell": "71987aa2-17aa-441d-a56f-1e0cd5e8c64f",
        "part": "whole"
       },
       "id": "d7334e4a-7def-4891-b1d3-c880e94643bd"
      }
     }
    },
    "5112ed3a-1737-4db8-8f87-930c087c7890": {
     "id": "5112ed3a-1737-4db8-8f87-930c087c7890",
     "prev": "adb0ff63-b492-4dd7-ac16-63d20a6fdfa7",
     "regions": {
      "faa7ef87-8337-43e1-a492-2dd11de274af": {
       "attrs": {
        "height": 0.8,
        "width": 0.8,
        "x": 0.1,
        "y": 0.1
       },
       "content": {
        "cell": "b498a602-2175-4c7b-836b-24a23a81c1a4",
        "part": "whole"
       },
       "id": "faa7ef87-8337-43e1-a492-2dd11de274af"
      }
     }
    },
    "59e2e356-8ba5-47c7-bdd5-284ad19b8071": {
     "id": "59e2e356-8ba5-47c7-bdd5-284ad19b8071",
     "prev": "f18f96fd-b252-457a-9a17-d78419c3e014",
     "regions": {
      "536c747c-5f6d-4e90-a52d-fcb27b9e2752": {
       "attrs": {
        "height": 0.8,
        "width": 0.8,
        "x": 0.1,
        "y": 0.1
       },
       "content": {
        "cell": "7cc5d79a-a117-4c35-8029-62bc8e53b4be",
        "part": "whole"
       },
       "id": "536c747c-5f6d-4e90-a52d-fcb27b9e2752"
      }
     }
    },
    "5b8826ec-36d5-49fe-b252-db74fbba214b": {
     "id": "5b8826ec-36d5-49fe-b252-db74fbba214b",
     "prev": "930f523f-c0e9-4afa-af38-0021b4faff91",
     "regions": {
      "bd769d98-a9f2-4024-ad6c-0d14e97b7504": {
       "attrs": {
        "height": 0.8,
        "width": 0.8,
        "x": 0.1,
        "y": 0.1
       },
       "content": {
        "cell": "db126c4a-d1e1-4966-9899-8345d5a8d919",
        "part": "whole"
       },
       "id": "bd769d98-a9f2-4024-ad6c-0d14e97b7504"
      }
     }
    },
    "5e42a0af-c7cf-45d6-bfed-5f61053d1f79": {
     "id": "5e42a0af-c7cf-45d6-bfed-5f61053d1f79",
     "prev": "fa382bce-20a1-4d48-9c0f-b5b240c4c0be",
     "regions": {
      "f05c6af0-3c42-4e14-8dd3-b078ffc254ac": {
       "attrs": {
        "height": 0.8,
        "width": 0.8,
        "x": 0.1,
        "y": 0.1
       },
       "content": {
        "cell": "00843487-8187-4dc3-936c-da860ba9e525",
        "part": "whole"
       },
       "id": "f05c6af0-3c42-4e14-8dd3-b078ffc254ac"
      }
     }
    },
    "5e95914e-ad38-4e3a-a777-3cf36fcac70c": {
     "id": "5e95914e-ad38-4e3a-a777-3cf36fcac70c",
     "prev": "5b8826ec-36d5-49fe-b252-db74fbba214b",
     "regions": {
      "d6525b94-5e8c-4b58-a402-1ed4ed39f630": {
       "attrs": {
        "height": 0.8,
        "width": 0.8,
        "x": 0.1,
        "y": 0.1
       },
       "content": {
        "cell": "7166cb47-bbd5-4f62-8ebe-3c6483050f64",
        "part": "whole"
       },
       "id": "d6525b94-5e8c-4b58-a402-1ed4ed39f630"
      }
     }
    },
    "6b086a74-357e-4430-99fa-5626bc8b1d85": {
     "id": "6b086a74-357e-4430-99fa-5626bc8b1d85",
     "prev": "4269d626-e550-4e7b-8b06-ed512ec86a0d",
     "regions": {
      "061f4e75-f335-4bdb-b6e1-9486553e6a22": {
       "attrs": {
        "height": 0.8,
        "width": 0.8,
        "x": 0.1,
        "y": 0.1
       },
       "content": {
        "cell": "49bd6b77-034d-4171-abbb-28bd56376b9c",
        "part": "whole"
       },
       "id": "061f4e75-f335-4bdb-b6e1-9486553e6a22"
      }
     }
    },
    "6bd994e7-839b-456b-ab1c-bd79ff79d101": {
     "id": "6bd994e7-839b-456b-ab1c-bd79ff79d101",
     "prev": "99f4740b-67b9-4f13-81be-2ca1d3d2deec",
     "regions": {
      "011db5be-23f1-4d14-9c87-8553d5ff998c": {
       "attrs": {
        "height": 0.8,
        "width": 0.8,
        "x": 0.1,
        "y": 0.1
       },
       "content": {
        "cell": "f34fddbc-09e6-4a3e-8d1c-d1b2b440e993",
        "part": "whole"
       },
       "id": "011db5be-23f1-4d14-9c87-8553d5ff998c"
      }
     }
    },
    "6d11c040-125e-4720-b0b5-7f0a2a288a1e": {
     "id": "6d11c040-125e-4720-b0b5-7f0a2a288a1e",
     "prev": "4cf7f3ae-6a72-4531-ab38-7afee280aad1",
     "regions": {
      "86fe53e2-5b11-40d3-84ae-4ea0f4d5df2c": {
       "attrs": {
        "height": 0.8,
        "width": 0.8,
        "x": 0.1,
        "y": 0.1
       },
       "content": {
        "cell": "5b5d3bc8-d94f-4c6f-81bb-0442c3b9c41a",
        "part": "whole"
       },
       "id": "86fe53e2-5b11-40d3-84ae-4ea0f4d5df2c"
      }
     }
    },
    "701260cb-adba-4ad8-b42c-c12d615950b4": {
     "id": "701260cb-adba-4ad8-b42c-c12d615950b4",
     "prev": "c184c1d0-f80a-4d72-9ba4-e0be2b958f2e",
     "regions": {
      "a0cc4982-2cf9-4477-8081-f77713aabfb7": {
       "attrs": {
        "height": 0.8,
        "width": 0.8,
        "x": 0.1,
        "y": 0.1
       },
       "content": {
        "cell": "4e1b033d-ec76-4372-85f8-341e7fdf54d3",
        "part": "whole"
       },
       "id": "a0cc4982-2cf9-4477-8081-f77713aabfb7"
      }
     }
    },
    "7039df5d-7ad1-4bad-94d7-964e3359ed0a": {
     "id": "7039df5d-7ad1-4bad-94d7-964e3359ed0a",
     "prev": "78853ca2-c2d9-4219-9ff9-05a5ebd387fd",
     "regions": {
      "511ebee5-b3d7-4ef9-931c-feb7d97b1503": {
       "attrs": {
        "height": 0.8,
        "width": 0.8,
        "x": 0.1,
        "y": 0.1
       },
       "content": {
        "cell": "a730de7c-e3e0-41d7-8611-75d997a087e3",
        "part": "whole"
       },
       "id": "511ebee5-b3d7-4ef9-931c-feb7d97b1503"
      }
     }
    },
    "732705f1-16bf-40e4-b657-eebc81c6cf31": {
     "id": "732705f1-16bf-40e4-b657-eebc81c6cf31",
     "prev": "82e88e9d-4968-4b76-8de4-0e3928b626e4",
     "regions": {
      "c0646389-2b8f-4b41-be63-b68e940a9c2b": {
       "attrs": {
        "height": 0.8,
        "width": 0.8,
        "x": 0.1,
        "y": 0.1
       },
       "content": {
        "cell": "e5b55d8c-9392-4e54-9952-bfc5ce84ab64",
        "part": "whole"
       },
       "id": "c0646389-2b8f-4b41-be63-b68e940a9c2b"
      }
     }
    },
    "74d7a892-1d23-4a72-8f63-66e83fd3d065": {
     "id": "74d7a892-1d23-4a72-8f63-66e83fd3d065",
     "prev": "f0579bff-2722-4bab-b121-4b0b8369842e",
     "regions": {
      "21009037-02d5-47bc-829d-5110c122b690": {
       "attrs": {
        "height": 0.8,
        "width": 0.8,
        "x": 0.1,
        "y": 0.1
       },
       "content": {
        "cell": "632ca1b1-6c5d-476e-a5db-cd3537d5b275",
        "part": "whole"
       },
       "id": "21009037-02d5-47bc-829d-5110c122b690"
      }
     }
    },
    "7527cfcd-f8bf-4692-9e4e-02290c8f1e32": {
     "id": "7527cfcd-f8bf-4692-9e4e-02290c8f1e32",
     "prev": "db81e632-e43e-4e15-89b6-88a584f56b52",
     "regions": {
      "f67be15f-e16f-45ea-a17b-54eed73f2f8a": {
       "attrs": {
        "height": 0.8,
        "width": 0.8,
        "x": 0.12097457663282105,
        "y": 0.10331468024698084
       },
       "content": {
        "cell": "1427cbfb-9c65-4c06-bd10-7fdb0a6558f2",
        "part": "source"
       },
       "id": "f67be15f-e16f-45ea-a17b-54eed73f2f8a"
      }
     },
     "theme": null
    },
    "76ec752b-c50f-4943-9689-7c3e90ecf0d4": {
     "id": "76ec752b-c50f-4943-9689-7c3e90ecf0d4",
     "prev": "a8218f1f-fc39-4641-9e65-c8cac4296225",
     "regions": {
      "e8ff0897-dc74-4dae-b7b9-a3e32a475fa0": {
       "attrs": {
        "height": 0.8,
        "width": 0.8,
        "x": 0.1,
        "y": 0.1
       },
       "content": {
        "cell": "562ad024-8997-4dc7-969c-2b6a14d69832",
        "part": "whole"
       },
       "id": "e8ff0897-dc74-4dae-b7b9-a3e32a475fa0"
      }
     }
    },
    "781c82f1-78a9-4a73-b252-78179086a01d": {
     "id": "781c82f1-78a9-4a73-b252-78179086a01d",
     "prev": "144b9685-d538-49cc-aaa1-9432cf3e2618",
     "regions": {
      "20d8792e-23c3-4833-8420-d9b4e8461b72": {
       "attrs": {
        "height": 0.8,
        "width": 0.8,
        "x": 0.1,
        "y": 0.1
       },
       "content": {
        "cell": "b1c7e4d9-1cab-4c75-a8ba-3e1ff6a9daa3",
        "part": "whole"
       },
       "id": "20d8792e-23c3-4833-8420-d9b4e8461b72"
      }
     }
    },
    "78853ca2-c2d9-4219-9ff9-05a5ebd387fd": {
     "id": "78853ca2-c2d9-4219-9ff9-05a5ebd387fd",
     "prev": "8ae1d298-5dce-4bd0-9577-e533956ee8ef",
     "regions": {
      "5e6d67f5-1f16-412f-b9bc-e7f59a95dd6a": {
       "attrs": {
        "height": 0.8,
        "width": 0.8,
        "x": 0.1,
        "y": 0.1
       },
       "content": {
        "cell": "a5eff97a-1367-4abe-bbd9-cbaaa2f24455",
        "part": "whole"
       },
       "id": "5e6d67f5-1f16-412f-b9bc-e7f59a95dd6a"
      }
     }
    },
    "7a12d817-39bb-4d0d-8c62-cbd41fff5daf": {
     "id": "7a12d817-39bb-4d0d-8c62-cbd41fff5daf",
     "prev": "30e83106-780b-46f1-8df6-e539d23784e0",
     "regions": {
      "a458d9b9-2c0a-4870-9daa-513379c39f4f": {
       "attrs": {
        "height": 0.8,
        "width": 0.8,
        "x": 0.1,
        "y": 0.1
       },
       "content": {
        "cell": "947c8d31-708f-4320-ae01-b3bf76a8fc50",
        "part": "whole"
       },
       "id": "a458d9b9-2c0a-4870-9daa-513379c39f4f"
      }
     }
    },
    "8215e241-08cf-42c7-bf09-e592ec5c1d2a": {
     "id": "8215e241-08cf-42c7-bf09-e592ec5c1d2a",
     "prev": "6b086a74-357e-4430-99fa-5626bc8b1d85",
     "regions": {
      "64c0acf1-77f9-4dd3-b679-175058b58b5d": {
       "attrs": {
        "height": 0.8,
        "width": 0.8,
        "x": 0.1,
        "y": 0.1
       },
       "content": {
        "cell": "d726d0a4-de08-4035-b720-345b4e6e923e",
        "part": "whole"
       },
       "id": "64c0acf1-77f9-4dd3-b679-175058b58b5d"
      }
     }
    },
    "82e88e9d-4968-4b76-8de4-0e3928b626e4": {
     "id": "82e88e9d-4968-4b76-8de4-0e3928b626e4",
     "prev": "3f284251-df90-48a8-bb95-94bd2e65aded",
     "regions": {
      "197ea249-2921-4ce4-a04e-b1e5423478e2": {
       "attrs": {
        "height": 0.8,
        "width": 0.8,
        "x": 0.1,
        "y": 0.1
       },
       "content": {
        "cell": "d3b0666d-4757-4c99-a970-16c871943af9",
        "part": "whole"
       },
       "id": "197ea249-2921-4ce4-a04e-b1e5423478e2"
      }
     }
    },
    "88163cee-f5e4-4d0e-9013-3c653894ba33": {
     "id": "88163cee-f5e4-4d0e-9013-3c653894ba33",
     "prev": "ed76901a-0c4d-457f-b466-a81b71ef92b5",
     "regions": {
      "86e51db7-b6de-4945-ad0e-7fa905821207": {
       "attrs": {
        "height": 0.8,
        "width": 0.8,
        "x": 0.1,
        "y": 0.1
       },
       "content": {
        "cell": "0a1ba25a-f70c-4e1c-af65-2313e58da766",
        "part": "whole"
       },
       "id": "86e51db7-b6de-4945-ad0e-7fa905821207"
      }
     }
    },
    "8ae1d298-5dce-4bd0-9577-e533956ee8ef": {
     "id": "8ae1d298-5dce-4bd0-9577-e533956ee8ef",
     "prev": "247bbd0e-f0ea-4b9a-90eb-1bca8a64b89b",
     "regions": {
      "5eeab40f-1166-45d0-942d-3f590854420c": {
       "attrs": {
        "height": 0.8,
        "width": 0.8,
        "x": 0.1,
        "y": 0.1
       },
       "content": {
        "cell": "62cfef4d-f440-443f-9e5b-25594a880452",
        "part": "whole"
       },
       "id": "5eeab40f-1166-45d0-942d-3f590854420c"
      }
     }
    },
    "8dacb44d-36ae-4bc0-b593-b7333bfc42f1": {
     "id": "8dacb44d-36ae-4bc0-b593-b7333bfc42f1",
     "prev": "4df56a62-807d-419d-8dba-dfef8286b065",
     "regions": {
      "7b03cf47-8a1a-4689-a826-68e76610eedc": {
       "attrs": {
        "height": 0.8,
        "width": 0.8,
        "x": 0.1,
        "y": 0.1
       },
       "content": {
        "cell": "f9538ab3-463d-400f-9250-25f16d7e15e5",
        "part": "whole"
       },
       "id": "7b03cf47-8a1a-4689-a826-68e76610eedc"
      }
     }
    },
    "8f0c67d5-c8cb-4bc0-947b-6247ce77c588": {
     "id": "8f0c67d5-c8cb-4bc0-947b-6247ce77c588",
     "prev": "4edd4964-4ae8-4cd8-ac55-e96e99c36fc9",
     "regions": {
      "7d515c93-427c-4307-820d-0a81d169e9dc": {
       "attrs": {
        "height": 0.8,
        "width": 0.8,
        "x": 0.1,
        "y": 0.1
       },
       "content": {
        "cell": "4cf49aa0-d831-4b02-a513-04a915c5ce18",
        "part": "whole"
       },
       "id": "7d515c93-427c-4307-820d-0a81d169e9dc"
      }
     }
    },
    "903da285-97ec-4920-a722-8312414935c5": {
     "id": "903da285-97ec-4920-a722-8312414935c5",
     "prev": "c78fb415-72b1-408d-b4fe-d2e849073671",
     "regions": {
      "0df34aa6-4d15-4f98-bf57-c7228b05b9cc": {
       "attrs": {
        "height": 0.8,
        "width": 0.8,
        "x": 0.1,
        "y": 0.1
       },
       "content": {
        "cell": "72ff7f22-da8c-4ac4-9021-a2b3208d218f",
        "part": "whole"
       },
       "id": "0df34aa6-4d15-4f98-bf57-c7228b05b9cc"
      }
     }
    },
    "919fe0ba-0f98-4abf-a901-088f76fb87e6": {
     "id": "919fe0ba-0f98-4abf-a901-088f76fb87e6",
     "prev": "aad7fc3f-a675-400e-bdba-8e7ee9f0cc65",
     "regions": {
      "814fe240-112f-42cd-8fd0-f07bc2f9610b": {
       "attrs": {
        "height": 0.8,
        "width": 0.8,
        "x": 0.1,
        "y": 0.1
       },
       "content": {
        "cell": "33c53aab-d5aa-4a14-a603-048c6bd4d241",
        "part": "whole"
       },
       "id": "814fe240-112f-42cd-8fd0-f07bc2f9610b"
      }
     }
    },
    "92b39d49-d593-4750-a364-f2d1f91f082a": {
     "id": "92b39d49-d593-4750-a364-f2d1f91f082a",
     "prev": "0e39e2f3-6fa2-4728-93cb-155776991667",
     "regions": {
      "332feca8-aac3-49ff-885d-0b9e89383a10": {
       "attrs": {
        "height": 0.8,
        "width": 0.8,
        "x": 0.1,
        "y": 0.1
       },
       "content": {
        "cell": "87e7f653-08e9-4993-abbc-b8a7eb930e26",
        "part": "whole"
       },
       "id": "332feca8-aac3-49ff-885d-0b9e89383a10"
      }
     }
    },
    "930f523f-c0e9-4afa-af38-0021b4faff91": {
     "id": "930f523f-c0e9-4afa-af38-0021b4faff91",
     "layout": "manual",
     "prev": "ef3712f9-cdd4-49da-bbc3-b8932e8fccef",
     "regions": {
      "00257af7-d10a-4be3-af11-f9ec7c87a0a4": {
       "attrs": {
        "height": 0.25,
        "pad": 0.01,
        "treemap:weight": 1,
        "width": 0.5,
        "x": 0,
        "y": 0.4166666666666667
       },
       "id": "00257af7-d10a-4be3-af11-f9ec7c87a0a4"
      },
      "29471260-5338-4d07-a676-b583a5179090": {
       "attrs": {
        "height": 0.5833333333333334,
        "pad": 0.01,
        "treemap:weight": 1,
        "width": 0.25,
        "x": 0.75,
        "y": 0.4166666666666667
       },
       "content": {
        "cell": "cc49b58f-1886-4e79-aa9b-f2beb4046df6",
        "part": "whole"
       },
       "id": "29471260-5338-4d07-a676-b583a5179090"
      },
      "36fc6afa-c68b-4858-be13-e75a4909f8c6": {
       "attrs": {
        "height": 0.8,
        "width": 0.8,
        "x": 0.1,
        "y": 0.1
       },
       "id": "36fc6afa-c68b-4858-be13-e75a4909f8c6"
      },
      "5b08f49e-5204-4123-8101-323dd71da119": {
       "attrs": {
        "height": 0.41666666666666674,
        "pad": 0.01,
        "treemap:weight": 1,
        "width": 0.3333333333333333,
        "x": -0.005243644158205265,
        "y": -0.015536723431719305
       },
       "id": "5b08f49e-5204-4123-8101-323dd71da119"
      },
      "5bc6782f-3d67-4ce8-8b48-5d52cc8c3bbf": {
       "attrs": {
        "height": 0.4166666666666667,
        "pad": 0.01,
        "treemap:weight": 1,
        "width": 0.3333333333333333,
        "x": 0.3333333333333333,
        "y": 0
       },
       "id": "5bc6782f-3d67-4ce8-8b48-5d52cc8c3bbf"
      },
      "a09555b7-44cf-467f-ab56-5b8fbd2b13dd": {
       "attrs": {
        "height": 0.4166666666666667,
        "pad": 0.01,
        "treemap:weight": 1,
        "width": 0.3333333333333333,
        "x": 0.6666666666666666,
        "y": 0
       },
       "id": "a09555b7-44cf-467f-ab56-5b8fbd2b13dd"
      },
      "b1e6e130-a3f8-43ed-9c03-3b60d82f3f5a": {
       "attrs": {
        "height": 0.25,
        "pad": 0.01,
        "treemap:weight": 1,
        "width": 0.5,
        "x": 0,
        "y": 0.75
       },
       "id": "b1e6e130-a3f8-43ed-9c03-3b60d82f3f5a"
      },
      "dea6486d-a48d-4d4a-a9a4-87817c294986": {
       "attrs": {
        "height": 0.5833333333333334,
        "pad": 0.01,
        "treemap:weight": 1,
        "width": 0.25,
        "x": 0.5,
        "y": 0.41666666666666674
       },
       "id": "dea6486d-a48d-4d4a-a9a4-87817c294986"
      }
     }
    },
    "959b7b0c-c0b2-4c1a-8f42-171c8099dc6c": {
     "id": "959b7b0c-c0b2-4c1a-8f42-171c8099dc6c",
     "prev": "054515a1-3dec-4fe2-8f8b-f8e7bf62000f",
     "regions": {
      "6b646a69-9761-4d08-b170-51926824555d": {
       "attrs": {
        "height": 0.8,
        "width": 0.8,
        "x": 0.1,
        "y": 0.1
       },
       "content": {
        "cell": "3ed334c2-ae93-4e9c-ba1e-857de053db77",
        "part": "whole"
       },
       "id": "6b646a69-9761-4d08-b170-51926824555d"
      }
     }
    },
    "969ae955-9155-4f67-85a8-eb0840bc9198": {
     "id": "969ae955-9155-4f67-85a8-eb0840bc9198",
     "prev": "9f25abe4-0832-4bd1-9c05-0aa308b99eaf",
     "regions": {
      "1d1840b9-d0a9-47ea-90bd-b57df70d6a46": {
       "attrs": {
        "height": 0.8,
        "width": 0.8,
        "x": 0.1,
        "y": 0.1
       },
       "content": {
        "cell": "3575b9e4-3a27-41cd-b83a-cdf5d8110334",
        "part": "whole"
       },
       "id": "1d1840b9-d0a9-47ea-90bd-b57df70d6a46"
      }
     }
    },
    "99f4740b-67b9-4f13-81be-2ca1d3d2deec": {
     "id": "99f4740b-67b9-4f13-81be-2ca1d3d2deec",
     "prev": "3452677a-f36f-4966-a35f-a4391f3382d3",
     "regions": {
      "ab1caa31-a920-4b7a-a8b5-90dbb8a0f7b7": {
       "attrs": {
        "height": 0.8,
        "width": 0.8,
        "x": 0.1,
        "y": 0.1
       },
       "content": {
        "cell": "f9056de6-86b1-4d15-bdbb-031a4b1cfb8c",
        "part": "source"
       },
       "id": "ab1caa31-a920-4b7a-a8b5-90dbb8a0f7b7"
      }
     }
    },
    "9a4d6c38-c615-4f45-aee2-99ebc1fdc1fd": {
     "id": "9a4d6c38-c615-4f45-aee2-99ebc1fdc1fd",
     "prev": "2f93ec17-12a3-4ffb-a0a8-88fe0d44653c",
     "regions": {
      "3c312c8e-a598-4bb6-9e9a-9a554f782c69": {
       "attrs": {
        "height": 0.8,
        "width": 0.8,
        "x": 0.1,
        "y": 0.1
       },
       "content": {
        "cell": "c0c3a5df-afdc-45b0-bf69-da7fdf619ccc",
        "part": "whole"
       },
       "id": "3c312c8e-a598-4bb6-9e9a-9a554f782c69"
      }
     }
    },
    "9ca8a246-8815-4530-88ef-605c73466a2c": {
     "id": "9ca8a246-8815-4530-88ef-605c73466a2c",
     "prev": "903da285-97ec-4920-a722-8312414935c5",
     "regions": {
      "07e06fde-9854-4460-879c-c90da1d6fcec": {
       "attrs": {
        "height": 0.8,
        "width": 0.8,
        "x": 0.1,
        "y": 0.1
       },
       "content": {
        "cell": "16cfedd4-7e20-4127-9913-fea697e50fa3",
        "part": "whole"
       },
       "id": "07e06fde-9854-4460-879c-c90da1d6fcec"
      }
     }
    },
    "9dffaeab-0330-4019-8612-d94d502cbf9d": {
     "id": "9dffaeab-0330-4019-8612-d94d502cbf9d",
     "prev": "76ec752b-c50f-4943-9689-7c3e90ecf0d4",
     "regions": {
      "116c867c-9c29-4ccb-b95f-13d2022b58f4": {
       "attrs": {
        "height": 0.8,
        "width": 0.8,
        "x": 0.1,
        "y": 0.1
       },
       "content": {
        "cell": "e516c6a4-a7e8-44b1-9d26-500244db8223",
        "part": "whole"
       },
       "id": "116c867c-9c29-4ccb-b95f-13d2022b58f4"
      }
     }
    },
    "9f25abe4-0832-4bd1-9c05-0aa308b99eaf": {
     "id": "9f25abe4-0832-4bd1-9c05-0aa308b99eaf",
     "prev": "afeca908-b893-4f74-898c-e00f8de29739",
     "regions": {
      "645b47a5-d5c2-413c-afe3-d167271eaac3": {
       "attrs": {
        "height": 0.8,
        "width": 0.8,
        "x": 0.1,
        "y": 0.1
       },
       "content": {
        "cell": "a4465df8-57b8-4854-b3d5-9663d256aea0",
        "part": "whole"
       },
       "id": "645b47a5-d5c2-413c-afe3-d167271eaac3"
      }
     }
    },
    "a8218f1f-fc39-4641-9e65-c8cac4296225": {
     "id": "a8218f1f-fc39-4641-9e65-c8cac4296225",
     "prev": "5112ed3a-1737-4db8-8f87-930c087c7890",
     "regions": {
      "01fae008-98d4-4edf-a717-bc78972e1833": {
       "attrs": {
        "height": 0.8,
        "width": 0.8,
        "x": 0.1,
        "y": 0.1
       },
       "content": {
        "cell": "7174bd3d-3189-41cf-9e5b-f45a053b01c5",
        "part": "whole"
       },
       "id": "01fae008-98d4-4edf-a717-bc78972e1833"
      }
     }
    },
    "aad7fc3f-a675-400e-bdba-8e7ee9f0cc65": {
     "id": "aad7fc3f-a675-400e-bdba-8e7ee9f0cc65",
     "prev": "88163cee-f5e4-4d0e-9013-3c653894ba33",
     "regions": {
      "1720d3b9-2349-42fe-b32c-3846fed2e117": {
       "attrs": {
        "height": 0.8,
        "width": 0.8,
        "x": 0.1,
        "y": 0.1
       },
       "content": {
        "cell": "6f0e944e-f139-44b0-a89b-12fbb8f56a88",
        "part": "whole"
       },
       "id": "1720d3b9-2349-42fe-b32c-3846fed2e117"
      }
     }
    },
    "adb0ff63-b492-4dd7-ac16-63d20a6fdfa7": {
     "id": "adb0ff63-b492-4dd7-ac16-63d20a6fdfa7",
     "prev": "92b39d49-d593-4750-a364-f2d1f91f082a",
     "regions": {
      "a1d03e1a-408a-4ae9-89f8-88d81f088755": {
       "attrs": {
        "height": 0.8,
        "width": 0.8,
        "x": 0.1,
        "y": 0.1
       },
       "content": {
        "cell": "edff41a1-6df1-409f-b46a-c2c169e05e6c",
        "part": "whole"
       },
       "id": "a1d03e1a-408a-4ae9-89f8-88d81f088755"
      }
     }
    },
    "afeca908-b893-4f74-898c-e00f8de29739": {
     "id": "afeca908-b893-4f74-898c-e00f8de29739",
     "prev": "59e2e356-8ba5-47c7-bdd5-284ad19b8071",
     "regions": {
      "b2d013a4-2eba-4db9-88fc-87c1fabb0b42": {
       "attrs": {
        "height": 0.8,
        "width": 0.8,
        "x": 0.1,
        "y": 0.1
       },
       "content": {
        "cell": "7a173aa5-ed04-48f7-b9cb-473419e73381",
        "part": "whole"
       },
       "id": "b2d013a4-2eba-4db9-88fc-87c1fabb0b42"
      }
     }
    },
    "b3deb4ff-8359-4ba0-97d2-b75bdb7fa3dd": {
     "id": "b3deb4ff-8359-4ba0-97d2-b75bdb7fa3dd",
     "prev": "9a4d6c38-c615-4f45-aee2-99ebc1fdc1fd",
     "regions": {
      "578f8bda-ce38-49a5-8cf5-3d9a5c1bbdac": {
       "attrs": {
        "height": 0.8,
        "width": 0.8,
        "x": 0.1,
        "y": 0.1
       },
       "content": {
        "cell": "a557fc26-64ef-4b28-a191-aee267abf8bf",
        "part": "whole"
       },
       "id": "578f8bda-ce38-49a5-8cf5-3d9a5c1bbdac"
      }
     }
    },
    "b8c5bfba-6c8f-4879-9c74-688742e11733": {
     "id": "b8c5bfba-6c8f-4879-9c74-688742e11733",
     "prev": "ef7556f9-53b5-4a58-b905-b8f82cac916a",
     "regions": {
      "47239362-a772-4cdb-8715-262f57eb9a04": {
       "attrs": {
        "height": 0.8,
        "width": 0.8,
        "x": 0.1,
        "y": 0.1
       },
       "content": {
        "cell": "1c0661ec-d363-4c0b-91ec-32078fc3cfad",
        "part": "whole"
       },
       "id": "47239362-a772-4cdb-8715-262f57eb9a04"
      }
     }
    },
    "bcb21e1a-d7e1-4224-b070-5deace7ca527": {
     "id": "bcb21e1a-d7e1-4224-b070-5deace7ca527",
     "prev": "732705f1-16bf-40e4-b657-eebc81c6cf31",
     "regions": {
      "7926febf-a66c-44e4-bfd3-d0b7566ceb0e": {
       "attrs": {
        "height": 0.8,
        "width": 0.8,
        "x": 0.1,
        "y": 0.1
       },
       "content": {
        "cell": "78066e96-0637-4554-b831-3afd57739c84",
        "part": "whole"
       },
       "id": "7926febf-a66c-44e4-bfd3-d0b7566ceb0e"
      }
     }
    },
    "c184c1d0-f80a-4d72-9ba4-e0be2b958f2e": {
     "id": "c184c1d0-f80a-4d72-9ba4-e0be2b958f2e",
     "prev": "781c82f1-78a9-4a73-b252-78179086a01d",
     "regions": {
      "6ab9bcfc-5da3-40e9-86a0-0520fc7669f1": {
       "attrs": {
        "height": 0.8,
        "width": 0.8,
        "x": 0.1,
        "y": 0.1
       },
       "content": {
        "cell": "149f4e1f-da6b-450a-90df-cdb4a669fbfd",
        "part": "whole"
       },
       "id": "6ab9bcfc-5da3-40e9-86a0-0520fc7669f1"
      }
     }
    },
    "c78fb415-72b1-408d-b4fe-d2e849073671": {
     "id": "c78fb415-72b1-408d-b4fe-d2e849073671",
     "prev": "e2fb76e0-650a-446b-8ad6-ab7509b89a64",
     "regions": {
      "93538377-2760-499d-8065-1625fb7a050c": {
       "attrs": {
        "height": 0.8,
        "width": 0.8,
        "x": 0.1,
        "y": 0.1
       },
       "content": {
        "cell": "bfcac23d-d5fb-45a6-a4be-824025d3ca48",
        "part": "whole"
       },
       "id": "93538377-2760-499d-8065-1625fb7a050c"
      }
     }
    },
    "c9cbbd5e-e189-41b6-826c-45d394951fe9": {
     "id": "c9cbbd5e-e189-41b6-826c-45d394951fe9",
     "prev": "fa32197b-8ee7-4a3a-b4b1-a1ad3761ec47",
     "regions": {
      "a3735d8f-1d61-4f03-93eb-40786e2f04cd": {
       "attrs": {
        "height": 0.8,
        "width": 0.8,
        "x": 0.1,
        "y": 0.1
       },
       "content": {
        "cell": "36e5cd67-5c69-4eed-b2dc-f2009c88ac17",
        "part": "whole"
       },
       "id": "a3735d8f-1d61-4f03-93eb-40786e2f04cd"
      }
     }
    },
    "d3a5a2a7-76dd-436b-a666-ffbf851df1ca": {
     "id": "d3a5a2a7-76dd-436b-a666-ffbf851df1ca",
     "prev": "4e9d6b22-f199-4315-b77d-c49a1b8fc321",
     "regions": {
      "0af8d77d-735c-4a00-9147-30b5d7cbcd20": {
       "attrs": {
        "height": 0.8,
        "width": 0.8,
        "x": 0.1,
        "y": 0.1
       },
       "content": {
        "cell": "7acec783-e5bf-4167-9775-b3d0b6b93898",
        "part": "whole"
       },
       "id": "0af8d77d-735c-4a00-9147-30b5d7cbcd20"
      }
     }
    },
    "d497f69b-6f0c-41cd-90dd-00366054ba69": {
     "id": "d497f69b-6f0c-41cd-90dd-00366054ba69",
     "prev": "3c0f5a5b-220e-4e00-b0cd-b042db8f5181",
     "regions": {
      "dfabe0b0-8814-4957-936d-c962e6cb547d": {
       "attrs": {
        "height": 0.8,
        "width": 0.8,
        "x": 0.1,
        "y": 0.1
       },
       "content": {
        "cell": "73ebaee2-633f-41be-899a-fe670d64f095",
        "part": "whole"
       },
       "id": "dfabe0b0-8814-4957-936d-c962e6cb547d"
      }
     }
    },
    "db81e632-e43e-4e15-89b6-88a584f56b52": {
     "id": "db81e632-e43e-4e15-89b6-88a584f56b52",
     "prev": null,
     "regions": {}
    },
    "de08c5a9-bbd7-4306-896a-f02cd8192ae1": {
     "id": "de08c5a9-bbd7-4306-896a-f02cd8192ae1",
     "prev": "1da3b60c-f8c3-432d-8611-56bca30788c4",
     "regions": {
      "4db46892-2a97-42f2-ab6d-481f071c8a36": {
       "attrs": {
        "height": 0.8,
        "width": 0.8,
        "x": 0.1,
        "y": 0.1
       },
       "content": {
        "cell": "14d345cc-2731-4ff2-ac7c-71e0f5930170",
        "part": "whole"
       },
       "id": "4db46892-2a97-42f2-ab6d-481f071c8a36"
      }
     }
    },
    "e06b0798-35e3-41c0-91c4-cbc79f542673": {
     "id": "e06b0798-35e3-41c0-91c4-cbc79f542673",
     "prev": "49f7f52c-e6c2-478a-916a-e3b49fe437df",
     "regions": {
      "3d87572d-edef-40fb-9674-4de4531e8ef0": {
       "attrs": {
        "height": 0.8,
        "width": 0.8,
        "x": 0.1,
        "y": 0.1
       },
       "content": {
        "cell": "0d61573b-bbd6-4408-b203-c42dd6d05a12",
        "part": "whole"
       },
       "id": "3d87572d-edef-40fb-9674-4de4531e8ef0"
      }
     }
    },
    "e190d740-5c46-498d-b3dc-4a9e99decdf1": {
     "id": "e190d740-5c46-498d-b3dc-4a9e99decdf1",
     "prev": "5e42a0af-c7cf-45d6-bfed-5f61053d1f79",
     "regions": {
      "6163a19a-1a3d-46a0-9761-7e23ca3ece0a": {
       "attrs": {
        "height": 0.8,
        "width": 0.8,
        "x": 0.1,
        "y": 0.1
       },
       "content": {
        "cell": "047f733e-fb5b-4b36-9b0f-2d7aada6ea67",
        "part": "whole"
       },
       "id": "6163a19a-1a3d-46a0-9761-7e23ca3ece0a"
      }
     }
    },
    "e2fb76e0-650a-446b-8ad6-ab7509b89a64": {
     "id": "e2fb76e0-650a-446b-8ad6-ab7509b89a64",
     "prev": "e06b0798-35e3-41c0-91c4-cbc79f542673",
     "regions": {
      "30010636-30ed-416e-96ca-c46752a3dc6b": {
       "attrs": {
        "height": 0.8,
        "width": 0.8,
        "x": 0.1,
        "y": 0.1
       },
       "content": {
        "cell": "af4c301e-b1b2-440c-ae9a-e4597f5b7fad",
        "part": "whole"
       },
       "id": "30010636-30ed-416e-96ca-c46752a3dc6b"
      }
     }
    },
    "e8626f16-56bc-40d8-81ea-73e0ba81597a": {
     "id": "e8626f16-56bc-40d8-81ea-73e0ba81597a",
     "prev": "14b8862e-ed26-4907-a553-ac46513fe3c3",
     "regions": {
      "ea7b350b-c9b9-4d00-b01b-41af3f42a91e": {
       "attrs": {
        "height": 0.8,
        "width": 0.8,
        "x": 0.1,
        "y": 0.1
       },
       "content": {
        "cell": "f6c298bd-62f1-460c-8658-376c3d71edf2",
        "part": "whole"
       },
       "id": "ea7b350b-c9b9-4d00-b01b-41af3f42a91e"
      }
     }
    },
    "ed76901a-0c4d-457f-b466-a81b71ef92b5": {
     "id": "ed76901a-0c4d-457f-b466-a81b71ef92b5",
     "prev": "0e8b2e70-c97a-4807-9fc1-ccbb09f11354",
     "regions": {
      "5b7ab2dc-e39f-4ff4-8e62-7b590fdf467b": {
       "attrs": {
        "height": 0.8,
        "width": 0.8,
        "x": 0.1,
        "y": 0.1
       },
       "content": {
        "cell": "6098b089-458a-412b-92a8-7976ef7e00e8",
        "part": "whole"
       },
       "id": "5b7ab2dc-e39f-4ff4-8e62-7b590fdf467b"
      }
     }
    },
    "ef3712f9-cdd4-49da-bbc3-b8932e8fccef": {
     "id": "ef3712f9-cdd4-49da-bbc3-b8932e8fccef",
     "prev": "e190d740-5c46-498d-b3dc-4a9e99decdf1",
     "regions": {
      "51d4397f-13c0-4ae8-a445-122bf9c7c5fd": {
       "attrs": {
        "height": 0.8,
        "width": 0.8,
        "x": 0.1,
        "y": 0.1
       },
       "content": {
        "cell": "9e6bc791-09b5-406d-b1ec-5d829bdb36e8",
        "part": "whole"
       },
       "id": "51d4397f-13c0-4ae8-a445-122bf9c7c5fd"
      }
     }
    },
    "ef7556f9-53b5-4a58-b905-b8f82cac916a": {
     "id": "ef7556f9-53b5-4a58-b905-b8f82cac916a",
     "prev": "701260cb-adba-4ad8-b42c-c12d615950b4",
     "regions": {
      "175430e6-bb79-42e8-8f0f-e69cfbe01766": {
       "attrs": {
        "height": 0.8,
        "width": 0.8,
        "x": 0.1,
        "y": 0.1
       },
       "content": {
        "cell": "77e5d4ab-fc70-4d67-a0c9-7e3b577af121",
        "part": "whole"
       },
       "id": "175430e6-bb79-42e8-8f0f-e69cfbe01766"
      }
     }
    },
    "f0579bff-2722-4bab-b121-4b0b8369842e": {
     "id": "f0579bff-2722-4bab-b121-4b0b8369842e",
     "prev": "40f88800-a76f-41c4-9bd8-b8abb633550c",
     "regions": {
      "74cd573d-f85a-4b78-8b67-3984a0aa3d2a": {
       "attrs": {
        "height": 0.8,
        "width": 0.8,
        "x": 0.1,
        "y": 0.1
       },
       "content": {
        "cell": "7e31ab56-745c-45b1-99a2-dc4ba06dda14",
        "part": "whole"
       },
       "id": "74cd573d-f85a-4b78-8b67-3984a0aa3d2a"
      }
     }
    },
    "f18f96fd-b252-457a-9a17-d78419c3e014": {
     "id": "f18f96fd-b252-457a-9a17-d78419c3e014",
     "prev": "34dce738-9be0-4381-b49c-efe40c03c8b8",
     "regions": {
      "dd80b33b-349b-4422-8965-ff2fd520a590": {
       "attrs": {
        "height": 0.8,
        "width": 0.8,
        "x": 0.1,
        "y": 0.1
       },
       "content": {
        "cell": "a206a27c-ae23-46d8-bd1b-a412d7927370",
        "part": "whole"
       },
       "id": "dd80b33b-349b-4422-8965-ff2fd520a590"
      }
     }
    },
    "f636522e-c00c-40f8-a85c-d25e38b63265": {
     "id": "f636522e-c00c-40f8-a85c-d25e38b63265",
     "prev": "3587a061-d70b-4bdf-80b6-91f280ea327f",
     "regions": {
      "31cefbff-c9f1-4288-99c7-cb6c8540ed02": {
       "attrs": {
        "height": 0.8,
        "width": 0.8,
        "x": 0.1,
        "y": 0.1
       },
       "content": {
        "cell": "06144005-7a6f-46de-8950-3697357b9f99",
        "part": "whole"
       },
       "id": "31cefbff-c9f1-4288-99c7-cb6c8540ed02"
      }
     }
    },
    "fa32197b-8ee7-4a3a-b4b1-a1ad3761ec47": {
     "id": "fa32197b-8ee7-4a3a-b4b1-a1ad3761ec47",
     "prev": "b3deb4ff-8359-4ba0-97d2-b75bdb7fa3dd",
     "regions": {
      "e9b42341-3223-4349-a639-2194c2486da4": {
       "attrs": {
        "height": 0.8,
        "width": 0.8,
        "x": 0.1,
        "y": 0.1
       },
       "content": {
        "cell": "2a8c12b5-bece-4457-9995-286cf1f224ad",
        "part": "whole"
       },
       "id": "e9b42341-3223-4349-a639-2194c2486da4"
      }
     }
    },
    "fa382bce-20a1-4d48-9c0f-b5b240c4c0be": {
     "id": "fa382bce-20a1-4d48-9c0f-b5b240c4c0be",
     "prev": "959b7b0c-c0b2-4c1a-8f42-171c8099dc6c",
     "regions": {
      "016189e7-b7c3-469c-870b-fc1c141dc09e": {
       "attrs": {
        "height": 0.8,
        "width": 0.8,
        "x": 0.1,
        "y": 0.1
       },
       "content": {
        "cell": "1b170b0e-e981-4065-9c35-5f4ed2ec72e8",
        "part": "whole"
       },
       "id": "016189e7-b7c3-469c-870b-fc1c141dc09e"
      }
     }
    }
   },
   "themes": {
    "default": "7751ba80-84fd-4db3-ae1e-1e4a6bfdbc3e",
    "theme": {}
   }
  }
 },
 "nbformat": 4,
 "nbformat_minor": 2
}
