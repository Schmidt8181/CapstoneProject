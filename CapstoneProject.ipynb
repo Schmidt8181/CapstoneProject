{
 "cells": [
  {
   "cell_type": "markdown",
   "metadata": {},
   "source": [
    "# Capstone Project\n",
    "\n",
    "## Exploring Gender Wage Disparities\n",
    "\n",
    "In this notebook I will be exploring the US Bureau of Labor and Statistics January 2015 report on income by gender and occupation. "
   ]
  },
  {
   "cell_type": "code",
   "execution_count": 15,
   "metadata": {
    "collapsed": true
   },
   "outputs": [],
   "source": [
    "import pandas as pd\n",
    "import numpy as np\n",
    "import seaborn as sns\n",
    "import scipy\n",
    "import matplotlib.pyplot as plt\n",
    "from sklearn import linear_model\n",
    "from sklearn import preprocessing\n",
    "from sklearn import tree\n",
    "from sklearn import ensemble\n",
    "from sklearn.model_selection import cross_val_score, train_test_split\n",
    "%matplotlib inline"
   ]
  },
  {
   "cell_type": "markdown",
   "metadata": {},
   "source": [
    "Inputing data, cleaning it up, exploring and creating new features."
   ]
  },
  {
   "cell_type": "code",
   "execution_count": 28,
   "metadata": {},
   "outputs": [
    {
     "data": {
      "text/html": [
       "<div>\n",
       "<style>\n",
       "    .dataframe thead tr:only-child th {\n",
       "        text-align: right;\n",
       "    }\n",
       "\n",
       "    .dataframe thead th {\n",
       "        text-align: left;\n",
       "    }\n",
       "\n",
       "    .dataframe tbody tr th {\n",
       "        vertical-align: top;\n",
       "    }\n",
       "</style>\n",
       "<table border=\"1\" class=\"dataframe\">\n",
       "  <thead>\n",
       "    <tr style=\"text-align: right;\">\n",
       "      <th></th>\n",
       "      <th>Occupation</th>\n",
       "      <th>All_workers</th>\n",
       "      <th>All_weekly</th>\n",
       "      <th>M_workers</th>\n",
       "      <th>M_weekly</th>\n",
       "      <th>F_workers</th>\n",
       "      <th>F_weekly</th>\n",
       "    </tr>\n",
       "  </thead>\n",
       "  <tbody>\n",
       "    <tr>\n",
       "      <th>0</th>\n",
       "      <td>ALL OCCUPATIONS</td>\n",
       "      <td>109080</td>\n",
       "      <td>809</td>\n",
       "      <td>60746</td>\n",
       "      <td>895</td>\n",
       "      <td>48334</td>\n",
       "      <td>726</td>\n",
       "    </tr>\n",
       "    <tr>\n",
       "      <th>1</th>\n",
       "      <td>MANAGEMENT</td>\n",
       "      <td>12480</td>\n",
       "      <td>1351</td>\n",
       "      <td>7332</td>\n",
       "      <td>1486</td>\n",
       "      <td>5147</td>\n",
       "      <td>1139</td>\n",
       "    </tr>\n",
       "    <tr>\n",
       "      <th>2</th>\n",
       "      <td>Chief executives</td>\n",
       "      <td>1046</td>\n",
       "      <td>2041</td>\n",
       "      <td>763</td>\n",
       "      <td>2251</td>\n",
       "      <td>283</td>\n",
       "      <td>1836</td>\n",
       "    </tr>\n",
       "    <tr>\n",
       "      <th>3</th>\n",
       "      <td>General and operations managers</td>\n",
       "      <td>823</td>\n",
       "      <td>1260</td>\n",
       "      <td>621</td>\n",
       "      <td>1347</td>\n",
       "      <td>202</td>\n",
       "      <td>1002</td>\n",
       "    </tr>\n",
       "    <tr>\n",
       "      <th>4</th>\n",
       "      <td>Legislators</td>\n",
       "      <td>8</td>\n",
       "      <td>Na</td>\n",
       "      <td>5</td>\n",
       "      <td>Na</td>\n",
       "      <td>4</td>\n",
       "      <td>Na</td>\n",
       "    </tr>\n",
       "  </tbody>\n",
       "</table>\n",
       "</div>"
      ],
      "text/plain": [
       "                        Occupation  All_workers All_weekly  M_workers  \\\n",
       "0                  ALL OCCUPATIONS       109080        809      60746   \n",
       "1                       MANAGEMENT        12480       1351       7332   \n",
       "2                 Chief executives         1046       2041        763   \n",
       "3  General and operations managers          823       1260        621   \n",
       "4                      Legislators            8         Na          5   \n",
       "\n",
       "  M_weekly  F_workers F_weekly  \n",
       "0      895      48334      726  \n",
       "1     1486       5147     1139  \n",
       "2     2251        283     1836  \n",
       "3     1347        202     1002  \n",
       "4       Na          4       Na  "
      ]
     },
     "execution_count": 28,
     "metadata": {},
     "output_type": "execute_result"
    }
   ],
   "source": [
    "genderwage = pd.read_csv('/Users/Beba/Documents/JupyterNotebooks/CapstoneProject/inc_occ_gender.csv')\n",
    "genderwage.head()"
   ]
  },
  {
   "cell_type": "code",
   "execution_count": 29,
   "metadata": {},
   "outputs": [
    {
     "data": {
      "text/plain": [
       "Occupation     object\n",
       "All_workers     int64\n",
       "All_weekly     object\n",
       "M_workers       int64\n",
       "M_weekly       object\n",
       "F_workers       int64\n",
       "F_weekly       object\n",
       "dtype: object"
      ]
     },
     "execution_count": 29,
     "metadata": {},
     "output_type": "execute_result"
    }
   ],
   "source": [
    "genderwage.dtypes"
   ]
  },
  {
   "cell_type": "code",
   "execution_count": 30,
   "metadata": {},
   "outputs": [],
   "source": [
    "genderwage[['All_weekly',\n",
    "            'M_weekly',\n",
    "            'F_weekly']] = genderwage[['All_weekly',\n",
    "                                       'M_weekly',\n",
    "                                       'F_weekly']].apply(pd.to_numeric, errors='coerce')"
   ]
  },
  {
   "cell_type": "code",
   "execution_count": 31,
   "metadata": {},
   "outputs": [
    {
     "data": {
      "text/plain": [
       "Occupation      object\n",
       "All_workers      int64\n",
       "All_weekly     float64\n",
       "M_workers        int64\n",
       "M_weekly       float64\n",
       "F_workers        int64\n",
       "F_weekly       float64\n",
       "dtype: object"
      ]
     },
     "execution_count": 31,
     "metadata": {},
     "output_type": "execute_result"
    }
   ],
   "source": [
    "genderwage.dtypes"
   ]
  },
  {
   "cell_type": "code",
   "execution_count": 32,
   "metadata": {},
   "outputs": [
    {
     "data": {
      "text/plain": [
       "Occupation       0\n",
       "All_workers      0\n",
       "All_weekly     236\n",
       "M_workers        0\n",
       "M_weekly       326\n",
       "F_workers        0\n",
       "F_weekly       366\n",
       "dtype: int64"
      ]
     },
     "execution_count": 32,
     "metadata": {},
     "output_type": "execute_result"
    }
   ],
   "source": [
    "genderwage.isnull().sum()"
   ]
  },
  {
   "cell_type": "code",
   "execution_count": null,
   "metadata": {
    "collapsed": true
   },
   "outputs": [],
   "source": []
  }
 ],
 "metadata": {
  "kernelspec": {
   "display_name": "Python 3",
   "language": "python",
   "name": "python3"
  },
  "language_info": {
   "codemirror_mode": {
    "name": "ipython",
    "version": 3
   },
   "file_extension": ".py",
   "mimetype": "text/x-python",
   "name": "python",
   "nbconvert_exporter": "python",
   "pygments_lexer": "ipython3",
   "version": "3.6.1"
  }
 },
 "nbformat": 4,
 "nbformat_minor": 2
}
